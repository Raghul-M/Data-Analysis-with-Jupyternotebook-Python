{
 "cells": [
  {
   "cell_type": "code",
   "execution_count": 1,
   "id": "da4e253d",
   "metadata": {},
   "outputs": [],
   "source": [
    "from unittest import mock"
   ]
  },
  {
   "cell_type": "code",
   "execution_count": 2,
   "id": "32dd2215",
   "metadata": {},
   "outputs": [],
   "source": [
    "import random\n",
    "def roll_dice():\n",
    "    print(\"Rolling...\")\n",
    "    return random.randint(1,6)"
   ]
  },
  {
   "cell_type": "code",
   "execution_count": 5,
   "id": "fa9c870e",
   "metadata": {},
   "outputs": [
    {
     "name": "stdout",
     "output_type": "stream",
     "text": [
      "Rolling...\n"
     ]
    },
    {
     "data": {
      "text/plain": [
       "5"
      ]
     },
     "execution_count": 5,
     "metadata": {},
     "output_type": "execute_result"
    }
   ],
   "source": [
    "roll_dice()"
   ]
  },
  {
   "cell_type": "code",
   "execution_count": 11,
   "id": "0197a789",
   "metadata": {},
   "outputs": [],
   "source": [
    "mock_roll_dice=mock.Mock(name=\"new mock\",return_value=3)"
   ]
  },
  {
   "cell_type": "code",
   "execution_count": 13,
   "id": "22a94a02",
   "metadata": {},
   "outputs": [
    {
     "data": {
      "text/plain": [
       "3"
      ]
     },
     "execution_count": 13,
     "metadata": {},
     "output_type": "execute_result"
    }
   ],
   "source": [
    "mock_roll_dice()"
   ]
  },
  {
   "cell_type": "code",
   "execution_count": 14,
   "id": "d5c2fe97",
   "metadata": {},
   "outputs": [],
   "source": [
    "roll_dice = mock_roll_dice"
   ]
  },
  {
   "cell_type": "code",
   "execution_count": 16,
   "id": "f5e80528",
   "metadata": {},
   "outputs": [
    {
     "data": {
      "text/plain": [
       "3"
      ]
     },
     "execution_count": 16,
     "metadata": {},
     "output_type": "execute_result"
    }
   ],
   "source": [
    "roll_dice()"
   ]
  },
  {
   "cell_type": "code",
   "execution_count": 17,
   "id": "ec196893",
   "metadata": {},
   "outputs": [
    {
     "ename": "AssertionError",
     "evalue": "Expected 'new mock' to have been called once. Called 3 times.\nCalls: [call(), call(), call()].",
     "output_type": "error",
     "traceback": [
      "\u001b[1;31m---------------------------------------------------------------------------\u001b[0m",
      "\u001b[1;31mAssertionError\u001b[0m                            Traceback (most recent call last)",
      "\u001b[1;32m~\\AppData\\Local\\Temp\\ipykernel_7264\\2434388097.py\u001b[0m in \u001b[0;36m<module>\u001b[1;34m\u001b[0m\n\u001b[1;32m----> 1\u001b[1;33m \u001b[0mmock_roll_dice\u001b[0m\u001b[1;33m.\u001b[0m\u001b[0massert_called_once\u001b[0m\u001b[1;33m(\u001b[0m\u001b[1;33m)\u001b[0m\u001b[1;33m\u001b[0m\u001b[1;33m\u001b[0m\u001b[0m\n\u001b[0m",
      "\u001b[1;32m~\\Anaconda3\\lib\\unittest\\mock.py\u001b[0m in \u001b[0;36massert_called_once\u001b[1;34m(self)\u001b[0m\n\u001b[0;32m    884\u001b[0m                       \u001b[0mself\u001b[0m\u001b[1;33m.\u001b[0m\u001b[0mcall_count\u001b[0m\u001b[1;33m,\u001b[0m\u001b[1;33m\u001b[0m\u001b[1;33m\u001b[0m\u001b[0m\n\u001b[0;32m    885\u001b[0m                       self._calls_repr()))\n\u001b[1;32m--> 886\u001b[1;33m             \u001b[1;32mraise\u001b[0m \u001b[0mAssertionError\u001b[0m\u001b[1;33m(\u001b[0m\u001b[0mmsg\u001b[0m\u001b[1;33m)\u001b[0m\u001b[1;33m\u001b[0m\u001b[1;33m\u001b[0m\u001b[0m\n\u001b[0m\u001b[0;32m    887\u001b[0m \u001b[1;33m\u001b[0m\u001b[0m\n\u001b[0;32m    888\u001b[0m     \u001b[1;32mdef\u001b[0m \u001b[0massert_called_with\u001b[0m\u001b[1;33m(\u001b[0m\u001b[0mself\u001b[0m\u001b[1;33m,\u001b[0m \u001b[1;33m/\u001b[0m\u001b[1;33m,\u001b[0m \u001b[1;33m*\u001b[0m\u001b[0margs\u001b[0m\u001b[1;33m,\u001b[0m \u001b[1;33m**\u001b[0m\u001b[0mkwargs\u001b[0m\u001b[1;33m)\u001b[0m\u001b[1;33m:\u001b[0m\u001b[1;33m\u001b[0m\u001b[1;33m\u001b[0m\u001b[0m\n",
      "\u001b[1;31mAssertionError\u001b[0m: Expected 'new mock' to have been called once. Called 3 times.\nCalls: [call(), call(), call()]."
     ]
    }
   ],
   "source": [
    "mock_roll_dice.assert_called_once()"
   ]
  },
  {
   "cell_type": "code",
   "execution_count": null,
   "id": "e0a8c7d8",
   "metadata": {},
   "outputs": [],
   "source": []
  }
 ],
 "metadata": {
  "kernelspec": {
   "display_name": "Python 3 (ipykernel)",
   "language": "python",
   "name": "python3"
  },
  "language_info": {
   "codemirror_mode": {
    "name": "ipython",
    "version": 3
   },
   "file_extension": ".py",
   "mimetype": "text/x-python",
   "name": "python",
   "nbconvert_exporter": "python",
   "pygments_lexer": "ipython3",
   "version": "3.9.13"
  }
 },
 "nbformat": 4,
 "nbformat_minor": 5
}

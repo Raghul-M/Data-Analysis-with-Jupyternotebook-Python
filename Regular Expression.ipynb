{
 "cells": [
  {
   "cell_type": "markdown",
   "metadata": {
    "id": "zpZJwcBh-ten"
   },
   "source": [
    "# Regular Expression"
   ]
  },
  {
   "cell_type": "code",
   "execution_count": 1,
   "metadata": {
    "id": "r26AF3tz-teq"
   },
   "outputs": [],
   "source": [
    "import re"
   ]
  },
  {
   "cell_type": "code",
   "execution_count": 2,
   "metadata": {
    "id": "tlnGExDa-tes",
    "outputId": "57145db5-d34d-416c-cc94-e10f678827c0"
   },
   "outputs": [
    {
     "data": {
      "text/plain": [
       "'2'"
      ]
     },
     "execution_count": 2,
     "metadata": {},
     "output_type": "execute_result"
    }
   ],
   "source": [
    "str('2')"
   ]
  },
  {
   "cell_type": "code",
   "execution_count": 3,
   "metadata": {
    "id": "I9evz6UA-tet",
    "outputId": "9c6058fa-b033-4ea8-a6ad-70a7fca93e5a"
   },
   "outputs": [
    {
     "data": {
      "text/plain": [
       "'1.2'"
      ]
     },
     "execution_count": 3,
     "metadata": {},
     "output_type": "execute_result"
    }
   ],
   "source": [
    "str('1.2')"
   ]
  },
  {
   "cell_type": "code",
   "execution_count": null,
   "metadata": {
    "id": "vGwAKaby-tet"
   },
   "outputs": [],
   "source": []
  },
  {
   "cell_type": "markdown",
   "metadata": {
    "id": "cuOCw3AX-tet"
   },
   "source": [
    "#### findall : function is used to extrat data with similar patterns"
   ]
  },
  {
   "cell_type": "code",
   "execution_count": 4,
   "metadata": {
    "id": "4zqNenRj-teu",
    "outputId": "efef5760-b4e3-4732-ab90-2cc9a035789a"
   },
   "outputs": [
    {
     "data": {
      "text/plain": [
       "['1', '6', '2', '0', '2', '1']"
      ]
     },
     "execution_count": 4,
     "metadata": {},
     "output_type": "execute_result"
    }
   ],
   "source": [
    "s = '16-Aug-2021'\n",
    "re.findall( '\\d' , s ) # \\d - numbers"
   ]
  },
  {
   "cell_type": "code",
   "execution_count": null,
   "metadata": {
    "id": "h0TJcrDf-tev",
    "outputId": "fdd5d92e-4661-4f78-c572-84cc03368a32"
   },
   "outputs": [
    {
     "data": {
      "text/plain": [
       "['1', '6', '2', '0', '2', '1']"
      ]
     },
     "execution_count": 6,
     "metadata": {},
     "output_type": "execute_result"
    }
   ],
   "source": [
    "s = '16-Aug-2021'\n",
    "re.findall( '[0-9]' , s ) # [0-9] - number"
   ]
  },
  {
   "cell_type": "code",
   "execution_count": null,
   "metadata": {
    "id": "sX9hXa3D-tev",
    "outputId": "f411aeee-e08a-4d77-a114-f32f9847cc7c"
   },
   "outputs": [
    {
     "name": "stdout",
     "output_type": "stream",
     "text": [
      "['16', '2021']\n"
     ]
    }
   ],
   "source": [
    "print( re.findall( '\\d+' , s ) ) # + >>>> 1 or more"
   ]
  },
  {
   "cell_type": "code",
   "execution_count": null,
   "metadata": {
    "id": "m6y00mve-tew",
    "outputId": "250f69cb-64ba-4151-f31d-0990d813bdfd"
   },
   "outputs": [
    {
     "name": "stdout",
     "output_type": "stream",
     "text": [
      "['16', '2021']\n",
      "['16', '20', '21']\n",
      "['2021']\n"
     ]
    }
   ],
   "source": [
    "print( re.findall( '\\d+' , s ) )\n",
    "print( re.findall( '\\d{2}' , s ) )\n",
    "print( re.findall( '\\d{4}' , s ) )"
   ]
  },
  {
   "cell_type": "code",
   "execution_count": null,
   "metadata": {
    "id": "_2C5W5dw-tex",
    "outputId": "10b3d7cb-21d6-45f5-b97f-1dfbbbea8501"
   },
   "outputs": [
    {
     "data": {
      "text/plain": [
       "'16-Aug-2021'"
      ]
     },
     "execution_count": 11,
     "metadata": {},
     "output_type": "execute_result"
    }
   ],
   "source": [
    "s"
   ]
  },
  {
   "cell_type": "code",
   "execution_count": null,
   "metadata": {
    "id": "xiW9YiP6-tex",
    "outputId": "77de2b3f-dd33-4e53-aef5-66904900cbe1"
   },
   "outputs": [
    {
     "data": {
      "text/plain": [
       "['1', '6', '2', '0', '2', '1']"
      ]
     },
     "execution_count": 12,
     "metadata": {},
     "output_type": "execute_result"
    }
   ],
   "source": [
    "re.findall('\\d',s)"
   ]
  },
  {
   "cell_type": "code",
   "execution_count": null,
   "metadata": {
    "id": "mw5NeGt7-tex",
    "outputId": "c7a5ff8a-e67b-4c0a-d9df-5874483476d9"
   },
   "outputs": [
    {
     "data": {
      "text/plain": [
       "['-', 'A', 'u', 'g', '-']"
      ]
     },
     "execution_count": 4,
     "metadata": {},
     "output_type": "execute_result"
    }
   ],
   "source": [
    "re.findall('\\D',s) # /D - non numeric"
   ]
  },
  {
   "cell_type": "code",
   "execution_count": null,
   "metadata": {
    "id": "rGchAndT-tey",
    "outputId": "183f7b06-c40a-4e4f-f6ab-5a7fc69c97af"
   },
   "outputs": [
    {
     "data": {
      "text/plain": [
       "['1', '6', 'A', 'u', 'g', '2', '0', '2', '1']"
      ]
     },
     "execution_count": 3,
     "metadata": {},
     "output_type": "execute_result"
    }
   ],
   "source": [
    "s = '16-Aug-2021'\n",
    "re.findall( '\\w' , s )"
   ]
  },
  {
   "cell_type": "code",
   "execution_count": null,
   "metadata": {
    "id": "W8JvUyyh-tey",
    "outputId": "7151de6f-5997-4555-a559-597fd4e5d640"
   },
   "outputs": [
    {
     "data": {
      "text/plain": [
       "['A', 'u', 'g']"
      ]
     },
     "execution_count": 14,
     "metadata": {},
     "output_type": "execute_result"
    }
   ],
   "source": [
    "s = '16-Aug-2021'\n",
    "re.findall( '[A-Za-z]' , s )"
   ]
  },
  {
   "cell_type": "code",
   "execution_count": null,
   "metadata": {
    "id": "CtLGOHsA-tey",
    "outputId": "b7c8f6a7-31b7-4ec0-ce83-5d21ced89513"
   },
   "outputs": [
    {
     "data": {
      "text/plain": [
       "['Aug']"
      ]
     },
     "execution_count": 15,
     "metadata": {},
     "output_type": "execute_result"
    }
   ],
   "source": [
    "s = '16-Aug-2021'\n",
    "re.findall( '[A-Za-z]+' , s )"
   ]
  },
  {
   "cell_type": "code",
   "execution_count": null,
   "metadata": {
    "id": "Z38no2VE-tey",
    "outputId": "3e90641d-9850-4e5e-fd69-acb5032d1022"
   },
   "outputs": [
    {
     "data": {
      "text/plain": [
       "['Aug']"
      ]
     },
     "execution_count": 6,
     "metadata": {},
     "output_type": "execute_result"
    }
   ],
   "source": [
    "s = 'Aug-2021'\n",
    "re.findall( '^[A-Za-z]+' , s ) # ^ - Starting position"
   ]
  },
  {
   "cell_type": "code",
   "execution_count": null,
   "metadata": {
    "id": "gGJszJBM-tey",
    "outputId": "d718b6a2-4ac9-460d-f50e-0b94b488b6c9"
   },
   "outputs": [
    {
     "data": {
      "text/plain": [
       "['16-', '-2021']"
      ]
     },
     "execution_count": 7,
     "metadata": {},
     "output_type": "execute_result"
    }
   ],
   "source": [
    "s = '16-Aug-2021'\n",
    "re.findall( '[^A-Za-z]+' , s )  # ^ - inside square bracket - negation operation"
   ]
  },
  {
   "cell_type": "code",
   "execution_count": null,
   "metadata": {
    "id": "h64AwQre-tez"
   },
   "outputs": [],
   "source": []
  },
  {
   "cell_type": "code",
   "execution_count": null,
   "metadata": {
    "id": "D8zdUZpV-tez",
    "outputId": "5ffed44a-ed23-4c73-a314-74f5fc00c8a6"
   },
   "outputs": [
    {
     "data": {
      "text/plain": [
       "[]"
      ]
     },
     "execution_count": 22,
     "metadata": {},
     "output_type": "execute_result"
    }
   ],
   "source": [
    "s = 'Aug-2021 a'\n",
    "re.findall( '\\d+$' , s )"
   ]
  },
  {
   "cell_type": "code",
   "execution_count": null,
   "metadata": {
    "id": "1Xcdol4l-tez",
    "outputId": "ad93b59a-4b79-4d7c-b46a-43744ca0393b"
   },
   "outputs": [
    {
     "data": {
      "text/plain": [
       "['2021']"
      ]
     },
     "execution_count": 21,
     "metadata": {},
     "output_type": "execute_result"
    }
   ],
   "source": [
    "s = 'Aug-2021'\n",
    "re.findall( '\\d+$' , s ) # $ - ending position"
   ]
  },
  {
   "cell_type": "code",
   "execution_count": null,
   "metadata": {
    "id": "nn8nqlbn-tez"
   },
   "outputs": [],
   "source": []
  },
  {
   "cell_type": "code",
   "execution_count": null,
   "metadata": {
    "id": "IYIslFF7-tez",
    "outputId": "0e507e00-86fc-4856-cd79-9347be3c6726"
   },
   "outputs": [
    {
     "data": {
      "text/plain": [
       "['Jul']"
      ]
     },
     "execution_count": 24,
     "metadata": {},
     "output_type": "execute_result"
    }
   ],
   "source": [
    "s = 'Jul-2021'\n",
    "re.findall( 'Jul' , s )"
   ]
  },
  {
   "cell_type": "code",
   "execution_count": null,
   "metadata": {
    "id": "Cd1g2wR2-te0",
    "outputId": "7f160fd1-eb7f-443b-a7d7-1c263e26e457"
   },
   "outputs": [
    {
     "data": {
      "text/plain": [
       "[]"
      ]
     },
     "execution_count": 10,
     "metadata": {},
     "output_type": "execute_result"
    }
   ],
   "source": [
    "s = 'Mar-2021'\n",
    "re.findall( '(Jul|Aug)' , s ) # | or operation"
   ]
  },
  {
   "cell_type": "code",
   "execution_count": null,
   "metadata": {
    "id": "YBkAqWhb-te0"
   },
   "outputs": [],
   "source": []
  },
  {
   "cell_type": "markdown",
   "metadata": {
    "id": "Nw-b_tUs-te0"
   },
   "source": [
    "- Space characters"
   ]
  },
  {
   "cell_type": "code",
   "execution_count": null,
   "metadata": {
    "id": "L_0M7-VK-te0",
    "outputId": "7526d96d-1945-4011-afb0-24a1ddbf2999"
   },
   "outputs": [
    {
     "name": "stdout",
     "output_type": "stream",
     "text": [
      "Python\n",
      "Training\n"
     ]
    }
   ],
   "source": [
    "s = 'Python\\nTraining'\n",
    "print( s )"
   ]
  },
  {
   "cell_type": "code",
   "execution_count": null,
   "metadata": {
    "id": "hb9r8DSz-te0",
    "outputId": "ab080325-bdaf-4a61-dc09-c5c143bfe6ae"
   },
   "outputs": [
    {
     "name": "stdout",
     "output_type": "stream",
     "text": [
      "Python\tTraining\n"
     ]
    }
   ],
   "source": [
    "s = 'Python\\tTraining'\n",
    "print( s )"
   ]
  },
  {
   "cell_type": "code",
   "execution_count": null,
   "metadata": {
    "id": "n0ySWaqp-te1"
   },
   "outputs": [],
   "source": []
  },
  {
   "cell_type": "markdown",
   "metadata": {
    "id": "5W3X-DC7-te1"
   },
   "source": [
    "#### Split - To split string based on some patterns"
   ]
  },
  {
   "cell_type": "code",
   "execution_count": null,
   "metadata": {
    "id": "3P8HW6nb-te1",
    "outputId": "bac90001-ef1f-4ffd-e7da-fcc18c725482"
   },
   "outputs": [
    {
     "data": {
      "text/plain": [
       "['Python', 'Training']"
      ]
     },
     "execution_count": 30,
     "metadata": {},
     "output_type": "execute_result"
    }
   ],
   "source": [
    "s = 'Python\\nTraining'\n",
    "re.split( '\\n' , s )"
   ]
  },
  {
   "cell_type": "code",
   "execution_count": null,
   "metadata": {
    "id": "z1Ybyfix-te1"
   },
   "outputs": [],
   "source": []
  },
  {
   "cell_type": "code",
   "execution_count": null,
   "metadata": {
    "id": "gNrfQWjA-te1",
    "outputId": "c755e395-4ae9-458e-f3b7-c31cd0fa2a57"
   },
   "outputs": [
    {
     "data": {
      "text/plain": [
       "['', ' Training: 1) Basic ', ' set1 - 16-Aug 2) Basic ', ' set2 - 17-Aug ']"
      ]
     },
     "execution_count": 31,
     "metadata": {},
     "output_type": "execute_result"
    }
   ],
   "source": [
    "s = 'Python Training: 1) Basic Python set1 - 16-Aug 2) Basic Python set2 - 17-Aug '\n",
    "re.split( 'Python' , s , )"
   ]
  },
  {
   "cell_type": "code",
   "execution_count": null,
   "metadata": {
    "id": "_H_U6I5R-te1"
   },
   "outputs": [],
   "source": []
  },
  {
   "cell_type": "markdown",
   "metadata": {
    "id": "dOmzHKym-te2"
   },
   "source": [
    "##### sub,subn - To replace strings based on patterns"
   ]
  },
  {
   "cell_type": "code",
   "execution_count": null,
   "metadata": {
    "id": "qrdZTKmW-te5",
    "outputId": "002c5996-c1bb-4f10-c00f-4d6bb88fe1cb"
   },
   "outputs": [
    {
     "data": {
      "text/plain": [
       "'Python Training: 1) Basic Python set1 - @-Aug 2) Basic Python set2 - @-Aug '"
      ]
     },
     "execution_count": 12,
     "metadata": {},
     "output_type": "execute_result"
    }
   ],
   "source": [
    "s = 'Python Training: 1) Basic Python set1 - 16-Aug 2) Basic Python set2 - 17-Aug '\n",
    "re.sub( '\\d{2}' , '@' ,  s  )"
   ]
  },
  {
   "cell_type": "code",
   "execution_count": null,
   "metadata": {
    "id": "AkpSAf8f-te5"
   },
   "outputs": [],
   "source": []
  },
  {
   "cell_type": "code",
   "execution_count": null,
   "metadata": {
    "id": "3IoR-Rl4-te5",
    "outputId": "986dcb02-f1e7-4027-d228-36b9a856e58d"
   },
   "outputs": [
    {
     "data": {
      "text/plain": [
       "('Python Training: 1) Basic Python set1 - @-Aug 2) Basic Python set2 - 17-Aug ',\n",
       " 1)"
      ]
     },
     "execution_count": 13,
     "metadata": {},
     "output_type": "execute_result"
    }
   ],
   "source": [
    "s = 'Python Training: 1) Basic Python set1 - 16-Aug 2) Basic Python set2 - 17-Aug '\n",
    "re.subn( '\\d{2}' , '@' ,  s  , 1 )"
   ]
  },
  {
   "cell_type": "code",
   "execution_count": null,
   "metadata": {
    "id": "PKlV87m_-te-"
   },
   "outputs": [],
   "source": []
  },
  {
   "cell_type": "code",
   "execution_count": null,
   "metadata": {
    "id": "S9MT9Lk2-te-",
    "outputId": "04bd5135-df63-439b-ad47-247fab804363"
   },
   "outputs": [
    {
     "data": {
      "text/plain": [
       "<re.Match object; span=(0, 6), match='Python'>"
      ]
     },
     "execution_count": 35,
     "metadata": {},
     "output_type": "execute_result"
    }
   ],
   "source": [
    "s = 'Python Training: 1) Basic Python set1 - 16-Aug 2) Basic Python set2 - 17-Aug '\n",
    "re.search('Python',s)"
   ]
  },
  {
   "cell_type": "code",
   "execution_count": null,
   "metadata": {
    "id": "BHqlyijI-te-",
    "outputId": "d451e436-103a-497d-a81b-d79ce24a7dcf"
   },
   "outputs": [
    {
     "data": {
      "text/plain": [
       "True"
      ]
     },
     "execution_count": 37,
     "metadata": {},
     "output_type": "execute_result"
    }
   ],
   "source": [
    "bool( re.search('Python',s) )"
   ]
  },
  {
   "cell_type": "code",
   "execution_count": null,
   "metadata": {
    "id": "jW3E_WS8-te-",
    "outputId": "dbc5dfae-1af1-4ba6-a152-7c239228cb96"
   },
   "outputs": [
    {
     "data": {
      "text/plain": [
       "'Python'"
      ]
     },
     "execution_count": 36,
     "metadata": {},
     "output_type": "execute_result"
    }
   ],
   "source": [
    "re.search('Python',s).group()"
   ]
  },
  {
   "cell_type": "code",
   "execution_count": null,
   "metadata": {
    "id": "gHxPi45Y-te-"
   },
   "outputs": [],
   "source": []
  },
  {
   "cell_type": "code",
   "execution_count": null,
   "metadata": {
    "id": "Pj07Xqst-te_",
    "outputId": "9fc7cc52-bf77-4c19-8b8f-b537ac6daaeb"
   },
   "outputs": [
    {
     "data": {
      "text/plain": [
       "<re.Match object; span=(0, 6), match='Python'>"
      ]
     },
     "execution_count": 41,
     "metadata": {},
     "output_type": "execute_result"
    }
   ],
   "source": [
    "s = 'Python Title: Python Training: 1) Basic Python set1 - 16-Aug 2) Basic Python set2 - 17-Aug '\n",
    "re.match('Python',s)"
   ]
  },
  {
   "cell_type": "code",
   "execution_count": null,
   "metadata": {
    "id": "_Qkpap0W-te_"
   },
   "outputs": [],
   "source": [
    "# Match - check in the begining od string\n",
    "# Search - Entire string"
   ]
  },
  {
   "cell_type": "markdown",
   "metadata": {
    "id": "kZCIiyVx-te_"
   },
   "source": [
    "# Handling Files"
   ]
  },
  {
   "cell_type": "markdown",
   "metadata": {
    "id": "Oxxqj-s1-te_"
   },
   "source": [
    "- Reading text files"
   ]
  },
  {
   "cell_type": "code",
   "execution_count": null,
   "metadata": {
    "id": "VbVpvgOQ-tfA",
    "outputId": "0d9c9208-ac73-4fc8-f36d-22c403a39855"
   },
   "outputs": [],
   "source": []
  },
  {
   "cell_type": "code",
   "execution_count": null,
   "metadata": {
    "id": "an-mU39S-tfA"
   },
   "outputs": [],
   "source": [
    "with open( r'sample.txt' , 'r') as file_reader:\n",
    "    file_text = file_reader.read()"
   ]
  },
  {
   "cell_type": "code",
   "execution_count": null,
   "metadata": {
    "id": "SYJwMXBs-tfA",
    "outputId": "f41bb9f3-512c-4096-f6b6-d5d35ee876d9"
   },
   "outputs": [
    {
     "data": {
      "text/plain": [
       "str"
      ]
     },
     "execution_count": 24,
     "metadata": {},
     "output_type": "execute_result"
    }
   ],
   "source": [
    "type(file_text)"
   ]
  },
  {
   "cell_type": "code",
   "execution_count": null,
   "metadata": {
    "id": "e2Z-1ukD-tfB",
    "outputId": "7921e717-9032-456a-8188-3dc48085f529"
   },
   "outputs": [
    {
     "name": "stdout",
     "output_type": "stream",
     "text": [
      "Name1 1000\n",
      "Name2   2000\n",
      "Name3 3000\n",
      "4000 Name4\n",
      "5000 Name5\n",
      "Name6 6000\n",
      "\n"
     ]
    }
   ],
   "source": [
    "print( file_text )"
   ]
  },
  {
   "cell_type": "code",
   "execution_count": null,
   "metadata": {
    "id": "2Csvhu2H-tfB"
   },
   "outputs": [],
   "source": []
  },
  {
   "cell_type": "code",
   "execution_count": null,
   "metadata": {
    "id": "kSpgDyvN-tfB"
   },
   "outputs": [],
   "source": [
    "file_reader = open( r'sample.txt' , 'r')\n",
    "file_text = file_reader.readlines()\n",
    "file_reader.close()"
   ]
  },
  {
   "cell_type": "code",
   "execution_count": null,
   "metadata": {
    "id": "CKm-oLZp-tfB",
    "outputId": "41a0dbcb-c43e-4a03-d6d7-4d60da2ab49e"
   },
   "outputs": [
    {
     "name": "stdout",
     "output_type": "stream",
     "text": [
      "['Name1 1000\\n', 'Name2   2000\\n', 'Name3 3000\\n', '4000 Name4\\n', '5000 Name5\\n', 'Name6 6000\\n']\n"
     ]
    }
   ],
   "source": [
    "print(  file_text )"
   ]
  },
  {
   "cell_type": "code",
   "execution_count": null,
   "metadata": {
    "id": "Jkvf163v-tfB",
    "outputId": "3cd642af-fa77-4829-f389-29d3858be112"
   },
   "outputs": [
    {
     "name": "stdout",
     "output_type": "stream",
     "text": [
      "Name1 1000\n",
      "\n",
      "Name2   2000\n",
      "\n",
      "Name3 3000\n",
      "\n",
      "4000 Name4\n",
      "\n",
      "5000 Name5\n",
      "\n",
      "Name6 6000\n",
      "\n"
     ]
    }
   ],
   "source": [
    "name_list = []\n",
    "\n",
    "for i in file_text:\n",
    "    print( i )\n",
    "\n",
    "    name_list.append( re.findall( '[A-Za-z]+\\d+' , i )[ 0 ] )\n"
   ]
  },
  {
   "cell_type": "code",
   "execution_count": null,
   "metadata": {
    "id": "l2dP6sg0-tfC",
    "outputId": "531a9ea4-8c24-490f-999b-0fbea55c3c4a"
   },
   "outputs": [
    {
     "data": {
      "text/plain": [
       "['Name1', 'Name2', 'Name3', 'Name4', 'Name5', 'Name6']"
      ]
     },
     "execution_count": 29,
     "metadata": {},
     "output_type": "execute_result"
    }
   ],
   "source": [
    "name_list"
   ]
  },
  {
   "cell_type": "code",
   "execution_count": null,
   "metadata": {
    "id": "53E7MCvp-tfC",
    "outputId": "262f98f8-de34-4403-bcde-e0545a2ebf90"
   },
   "outputs": [
    {
     "data": {
      "text/plain": [
       "[1, 2, 3, 4, 5]"
      ]
     },
     "execution_count": 30,
     "metadata": {},
     "output_type": "execute_result"
    }
   ],
   "source": [
    "[1,2,3,4,5]"
   ]
  },
  {
   "cell_type": "code",
   "execution_count": null,
   "metadata": {
    "id": "XmaSvHam-tfC",
    "outputId": "da6bf4d1-c482-4450-e544-4f270f6f5a48"
   },
   "outputs": [
    {
     "name": "stdout",
     "output_type": "stream",
     "text": [
      "Name1\n",
      "Name2\n",
      "Name3\n",
      "Name4\n",
      "Name5\n",
      "Name6\n"
     ]
    }
   ],
   "source": [
    "for i in name_list:\n",
    "    print(i)"
   ]
  },
  {
   "cell_type": "code",
   "execution_count": null,
   "metadata": {
    "id": "0E50_c-Z-tfF",
    "outputId": "a566892a-21fc-424b-8892-85d85eb17631"
   },
   "outputs": [
    {
     "name": "stdout",
     "output_type": "stream",
     "text": [
      "0 Name1\n",
      "1 Name2\n",
      "2 Name3\n",
      "3 Name4\n",
      "4 Name5\n",
      "5 Name6\n"
     ]
    }
   ],
   "source": [
    "for idx ,  i in enumerate( name_list ):\n",
    "    print( idx , i)"
   ]
  },
  {
   "cell_type": "code",
   "execution_count": null,
   "metadata": {
    "id": "E01ZXvuA-tfG",
    "outputId": "b58ae635-2788-4f2c-9f45-8de8997b47bc"
   },
   "outputs": [
    {
     "name": "stdout",
     "output_type": "stream",
     "text": [
      "0 Name1 1\n",
      "1 Name2 2\n",
      "2 Name3 3\n",
      "3 Name4 4\n",
      "4 Name5 5\n"
     ]
    }
   ],
   "source": [
    "for idx , ( k , v ) in enumerate( zip( name_list , [1,2,3,4,5]) ):\n",
    "    print( idx, k , v )"
   ]
  },
  {
   "cell_type": "code",
   "execution_count": null,
   "metadata": {
    "id": "54zpeLMs-tfG"
   },
   "outputs": [],
   "source": []
  },
  {
   "cell_type": "code",
   "execution_count": null,
   "metadata": {
    "id": "ORpo32Iq-tfG"
   },
   "outputs": [],
   "source": []
  },
  {
   "cell_type": "markdown",
   "metadata": {
    "id": "0PQ8JSTk-tfG"
   },
   "source": [
    "#### Writing files"
   ]
  },
  {
   "cell_type": "code",
   "execution_count": null,
   "metadata": {
    "id": "cMsCZeas-tfG",
    "outputId": "0dfcb10e-5ee6-4387-cb96-f90cc9f355d2"
   },
   "outputs": [
    {
     "data": {
      "text/plain": [
       "['Name1', 'Name2', 'Name3', 'Name4', 'Name5', 'Name6']"
      ]
     },
     "execution_count": 56,
     "metadata": {},
     "output_type": "execute_result"
    }
   ],
   "source": [
    "name_list"
   ]
  },
  {
   "cell_type": "code",
   "execution_count": null,
   "metadata": {
    "id": "l1Nyd7Zc-tfG"
   },
   "outputs": [],
   "source": [
    "file_writer = open( 'output_write.txt' , 'w' )\n",
    "\n",
    "for i in name_list:\n",
    "    file_writer.write( i )\n",
    "    file_writer.write( '\\n' )\n",
    "\n",
    "file_writer.close()"
   ]
  },
  {
   "cell_type": "markdown",
   "metadata": {
    "id": "4PrgBjKo-tfH"
   },
   "source": [
    "- Guess what happens when we run twice"
   ]
  },
  {
   "cell_type": "code",
   "execution_count": null,
   "metadata": {
    "id": "S5IruYtm-tfH"
   },
   "outputs": [],
   "source": []
  },
  {
   "cell_type": "code",
   "execution_count": null,
   "metadata": {
    "id": "dJrk4Fyo-tfH"
   },
   "outputs": [],
   "source": []
  },
  {
   "cell_type": "code",
   "execution_count": null,
   "metadata": {
    "id": "o6WKRybr-tfH"
   },
   "outputs": [],
   "source": [
    "file_writer = open( 'output_write.txt' , 'a' )\n",
    "\n",
    "for i in name_list:\n",
    "    file_writer.write( i )\n",
    "    file_writer.write( '\\n' )\n",
    "\n",
    "file_writer.close()"
   ]
  },
  {
   "cell_type": "code",
   "execution_count": null,
   "metadata": {
    "id": "17w2Lifu-tfH"
   },
   "outputs": [],
   "source": []
  },
  {
   "cell_type": "code",
   "execution_count": null,
   "metadata": {
    "id": "jWGqwtLP-tfH"
   },
   "outputs": [],
   "source": []
  },
  {
   "cell_type": "code",
   "execution_count": null,
   "metadata": {
    "id": "6u43wOtk-tfH"
   },
   "outputs": [],
   "source": []
  }
 ],
 "metadata": {
  "colab": {
   "provenance": []
  },
  "kernelspec": {
   "display_name": "Python 3 (ipykernel)",
   "language": "python",
   "name": "python3"
  },
  "language_info": {
   "codemirror_mode": {
    "name": "ipython",
    "version": 3
   },
   "file_extension": ".py",
   "mimetype": "text/x-python",
   "name": "python",
   "nbconvert_exporter": "python",
   "pygments_lexer": "ipython3",
   "version": "3.10.13"
  }
 },
 "nbformat": 4,
 "nbformat_minor": 4
}

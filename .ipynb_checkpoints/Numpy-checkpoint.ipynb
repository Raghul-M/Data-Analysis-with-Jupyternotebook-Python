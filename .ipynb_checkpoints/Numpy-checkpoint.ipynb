{
 "cells": [
  {
   "cell_type": "markdown",
   "id": "770b5cd8",
   "metadata": {},
   "source": [
    " <b>NumPy and the Python ecosystem<b>"
   ]
  },
  {
   "cell_type": "raw",
   "id": "bc65bf43",
   "metadata": {},
   "source": [
    "NumPy is the core library for scientific computing in Python. Foundational Python libraries such as pandas, SciPy, and Matplotlib are built on top of NumPy's API. So are machine learning libraries such as TensorFlow and scikit-learn, which use NumPy arrays as inputs."
   ]
  },
  {
   "cell_type": "code",
   "execution_count": 1,
   "id": "752c6cf2",
   "metadata": {},
   "outputs": [],
   "source": [
    "import numpy as np"
   ]
  },
  {
   "cell_type": "markdown",
   "id": "714f4bb5",
   "metadata": {},
   "source": [
    "<b>Arrays vs. Python lists<b>"
   ]
  },
  {
   "cell_type": "markdown",
   "id": "bf2e06dd",
   "metadata": {},
   "source": [
    "- While Python lists can include many different data types, all of the elements in a NumPy array must be the same data type\n",
    "- Having only a single data type also means that a NumPy array takes up less space in memory than the same information      would if stored as a Python list."
   ]
  },
  {
   "cell_type": "markdown",
   "id": "857a5cf3",
   "metadata": {},
   "source": [
    "<b>Creating arrays from scratch in 3 ways<b>"
   ]
  },
  {
   "cell_type": "markdown",
   "id": "96f5b769",
   "metadata": {},
   "source": [
    "<b>1. np.zeros()<b>"
   ]
  },
  {
   "cell_type": "code",
   "execution_count": 3,
   "id": "1497caa5",
   "metadata": {},
   "outputs": [
    {
     "data": {
      "text/plain": [
       "array([[0., 0., 0.],\n",
       "       [0., 0., 0.],\n",
       "       [0., 0., 0.],\n",
       "       [0., 0., 0.],\n",
       "       [0., 0., 0.]])"
      ]
     },
     "execution_count": 3,
     "metadata": {},
     "output_type": "execute_result"
    }
   ],
   "source": [
    "np.zeros((5,3)) #Tuple that creating an array with 5 rows and three columns with 0 values"
   ]
  },
  {
   "cell_type": "markdown",
   "id": "842c488f",
   "metadata": {},
   "source": [
    "<b>2. np.random.random() </b>"
   ]
  },
  {
   "cell_type": "code",
   "execution_count": 4,
   "id": "1f8cb49d",
   "metadata": {},
   "outputs": [
    {
     "data": {
      "text/plain": [
       "array([[0.46739296, 0.99384911, 0.91101586, 0.65660951],\n",
       "       [0.44965495, 0.83912475, 0.77517548, 0.95961714]])"
      ]
     },
     "execution_count": 4,
     "metadata": {},
     "output_type": "execute_result"
    }
   ],
   "source": [
    "np.random.random((2,4)) # creating a array with random values (np.random)-numpy module  (.random) - function name"
   ]
  },
  {
   "cell_type": "markdown",
   "id": "7801c05f",
   "metadata": {},
   "source": [
    "<b>3. np.arange()   </b>"
   ]
  },
  {
   "cell_type": "markdown",
   "id": "8708ee3d",
   "metadata": {},
   "source": [
    " - It is particullarly usedfor plotting"
   ]
  },
  {
   "cell_type": "code",
   "execution_count": 6,
   "id": "116149ae",
   "metadata": {},
   "outputs": [
    {
     "data": {
      "text/plain": [
       "array([3, 4, 5, 6, 7, 8, 9])"
      ]
     },
     "execution_count": 6,
     "metadata": {},
     "output_type": "execute_result"
    }
   ],
   "source": [
    "np.arange(3,10) # np-dot-arange creates an array of sequential integers #The start value is included in the output array, but the stop value is not. The start value can be omitted if the range begins with zero. If a third argument is passed, it is interpreted as the step value."
   ]
  },
  {
   "cell_type": "code",
   "execution_count": 7,
   "id": "a7c054ce",
   "metadata": {},
   "outputs": [
    {
     "data": {
      "text/plain": [
       "array([0, 1, 2, 3])"
      ]
     },
     "execution_count": 7,
     "metadata": {},
     "output_type": "execute_result"
    }
   ],
   "source": [
    "np.arange(4)"
   ]
  },
  {
   "cell_type": "code",
   "execution_count": 8,
   "id": "0a12401d",
   "metadata": {},
   "outputs": [
    {
     "data": {
      "text/plain": [
       "array([ 0, 10, 20, 30, 40, 50, 60, 70, 80, 90])"
      ]
     },
     "execution_count": 8,
     "metadata": {},
     "output_type": "execute_result"
    }
   ],
   "source": [
    "np.arange(0,100,10)"
   ]
  },
  {
   "cell_type": "markdown",
   "id": "18613054",
   "metadata": {},
   "source": [
    "---------------------------------------"
   ]
  },
  {
   "cell_type": "code",
   "execution_count": null,
   "id": "ae1bf117",
   "metadata": {},
   "outputs": [],
   "source": [
    "To conver a list to numpy array \n",
    "syntax :\n",
    "         new_name = np.array(list_name)"
   ]
  },
  {
   "cell_type": "markdown",
   "id": "b18c99db",
   "metadata": {},
   "source": [
    "<b> Scatter plot<b>"
   ]
  },
  {
   "cell_type": "raw",
   "id": "f834fe19",
   "metadata": {},
   "source": [
    "plt.scatter(x_values, y_values)\n",
    "plt.show()"
   ]
  },
  {
   "cell_type": "markdown",
   "id": "c7542478",
   "metadata": {},
   "source": [
    "<b> Array Dimensionality <b>"
   ]
  },
  {
   "cell_type": "markdown",
   "id": "dc9d9eee",
   "metadata": {},
   "source": [
    "- a two-dimensional array is called a matrix.\n",
    "- an array with three or more dimensions is called a tensor."
   ]
  },
  {
   "cell_type": "markdown",
   "id": "b2b10707",
   "metadata": {},
   "source": [
    "<b>array_name.shape</b>\n",
    "- dot-shape describes the shape of an array and returns a tuple of the length of each dimension. A shape of (3, 5) indicates a 2D array with three rows and five columns."
   ]
  },
  {
   "cell_type": "markdown",
   "id": "db54c16e",
   "metadata": {},
   "source": [
    "<b> array_name.flatten()</b>\n",
    "\n",
    "- flatten()  it takes all array elements and puts them in just one dimension inside a 1D array."
   ]
  },
  {
   "cell_type": "markdown",
   "id": "e1bba8bb",
   "metadata": {},
   "source": [
    "<b> array_name.reshape()</b>\n",
    "- The dot-reshape method allows us to redefine the shape of an array without changing the elements that make up the array"
   ]
  },
  {
   "cell_type": "markdown",
   "id": "7f9989de",
   "metadata": {},
   "source": [
    "<b>np.stack(arr1,arr2 )</b>\n",
    "- It stack the arrays in the passing order"
   ]
  },
  {
   "cell_type": "markdown",
   "id": "899c5756",
   "metadata": {},
   "source": [
    "-----------------------"
   ]
  },
  {
   "cell_type": "markdown",
   "id": "fdf9e60e",
   "metadata": {},
   "source": [
    "<b> Numpy Datatypes</b>"
   ]
  },
  {
   "cell_type": "markdown",
   "id": "ed8f2f77",
   "metadata": {},
   "source": [
    "dtype is an attribute for datatype\n"
   ]
  },
  {
   "cell_type": "code",
   "execution_count": null,
   "id": "e830e9b7",
   "metadata": {},
   "outputs": [],
   "source": [
    "Type conversion - .astype(np.int64)\n",
    "\n",
    "Type coercion - converting all the data in the array in the same type [numbers to strings][It will take the big datatype and convert the other data into it]"
   ]
  },
  {
   "cell_type": "markdown",
   "id": "d9fcaba0",
   "metadata": {},
   "source": [
    "--------------------------------------"
   ]
  },
  {
   "cell_type": "markdown",
   "id": "131581c8",
   "metadata": {},
   "source": [
    "<b>Applications of numpy</b>"
   ]
  },
  {
   "cell_type": "markdown",
   "id": "dd79ab56",
   "metadata": {},
   "source": [
    "- Numpy has contiguous memory , differ from list doesnt have it\n",
    "- Effective cache utilization\n",
    "- SIMBD Vector proccessing"
   ]
  },
  {
   "cell_type": "markdown",
   "id": "7447fc1c",
   "metadata": {},
   "source": [
    "<b>The basics<b>"
   ]
  },
  {
   "cell_type": "code",
   "execution_count": 23,
   "id": "9292798d",
   "metadata": {},
   "outputs": [
    {
     "name": "stdout",
     "output_type": "stream",
     "text": [
      "[1 2 3]\n"
     ]
    }
   ],
   "source": [
    "a1 = np.array([1,2,3]) #One-dimensional array\n",
    "print(a1)"
   ]
  },
  {
   "cell_type": "code",
   "execution_count": 20,
   "id": "e26d1cb4",
   "metadata": {},
   "outputs": [
    {
     "name": "stdout",
     "output_type": "stream",
     "text": [
      "[[1.1 2.1 3.1]\n",
      " [1.  2.  3. ]]\n"
     ]
    }
   ],
   "source": [
    "a = np.array([[1.1,2.1,3.1],[1.0,2.0,3.0]]) #two-dimensional array\n",
    "print(a)"
   ]
  },
  {
   "cell_type": "code",
   "execution_count": 25,
   "id": "8319ccb7",
   "metadata": {},
   "outputs": [
    {
     "name": "stdout",
     "output_type": "stream",
     "text": [
      "2\n"
     ]
    },
    {
     "data": {
      "text/plain": [
       "1"
      ]
     },
     "execution_count": 25,
     "metadata": {},
     "output_type": "execute_result"
    }
   ],
   "source": [
    "#Get dimension\n",
    "print(a.ndim)\n",
    "a1.ndim"
   ]
  },
  {
   "cell_type": "code",
   "execution_count": 26,
   "id": "da49fe71",
   "metadata": {},
   "outputs": [
    {
     "data": {
      "text/plain": [
       "(3,)"
      ]
     },
     "execution_count": 26,
     "metadata": {},
     "output_type": "execute_result"
    }
   ],
   "source": [
    "#Get shape\n",
    "a1.shape"
   ]
  },
  {
   "cell_type": "code",
   "execution_count": 27,
   "id": "df606978",
   "metadata": {},
   "outputs": [
    {
     "data": {
      "text/plain": [
       "(2, 3)"
      ]
     },
     "execution_count": 27,
     "metadata": {},
     "output_type": "execute_result"
    }
   ],
   "source": [
    "a.shape"
   ]
  },
  {
   "cell_type": "code",
   "execution_count": 29,
   "id": "bb3b013d",
   "metadata": {},
   "outputs": [
    {
     "data": {
      "text/plain": [
       "dtype('int32')"
      ]
     },
     "execution_count": 29,
     "metadata": {},
     "output_type": "execute_result"
    }
   ],
   "source": [
    "#Get type\n",
    "a.dtype\n",
    "\n",
    "a1.dtype"
   ]
  },
  {
   "cell_type": "code",
   "execution_count": 31,
   "id": "3c70550d",
   "metadata": {},
   "outputs": [
    {
     "name": "stdout",
     "output_type": "stream",
     "text": [
      "[1 2 3]\n"
     ]
    },
    {
     "data": {
      "text/plain": [
       "dtype('int8')"
      ]
     },
     "execution_count": 31,
     "metadata": {},
     "output_type": "execute_result"
    }
   ],
   "source": [
    "#Initializing the type\n",
    "a1 = np.array([1,2,3],dtype=\"int8\") #One-dimensional array\n",
    "print(a1)\n",
    "a1.dtype"
   ]
  },
  {
   "cell_type": "code",
   "execution_count": 33,
   "id": "ac614c04",
   "metadata": {},
   "outputs": [
    {
     "data": {
      "text/plain": [
       "1"
      ]
     },
     "execution_count": 33,
     "metadata": {},
     "output_type": "execute_result"
    }
   ],
   "source": [
    "#Get size\n",
    "a1.itemsize # 8bits = 1byte"
   ]
  },
  {
   "cell_type": "code",
   "execution_count": 34,
   "id": "7d36cf3b",
   "metadata": {},
   "outputs": [
    {
     "data": {
      "text/plain": [
       "3"
      ]
     },
     "execution_count": 34,
     "metadata": {},
     "output_type": "execute_result"
    }
   ],
   "source": [
    "#Get total size\n",
    "a1.nbytes #based on dtype and bytes"
   ]
  },
  {
   "cell_type": "markdown",
   "id": "effd22c7",
   "metadata": {},
   "source": [
    "<b> Accesssing / changing specific elements in rows,columns etcc.. </b>"
   ]
  },
  {
   "cell_type": "code",
   "execution_count": 36,
   "id": "c4bae851",
   "metadata": {},
   "outputs": [],
   "source": [
    "a=np.array([[1,2,3,4,5],[6,7,8,9,10]])"
   ]
  },
  {
   "cell_type": "code",
   "execution_count": 37,
   "id": "71645546",
   "metadata": {},
   "outputs": [
    {
     "data": {
      "text/plain": [
       "array([[ 1,  2,  3,  4,  5],\n",
       "       [ 6,  7,  8,  9, 10]])"
      ]
     },
     "execution_count": 37,
     "metadata": {},
     "output_type": "execute_result"
    }
   ],
   "source": [
    "a"
   ]
  },
  {
   "cell_type": "code",
   "execution_count": 44,
   "id": "1c255a3c",
   "metadata": {},
   "outputs": [
    {
     "data": {
      "text/plain": [
       "10"
      ]
     },
     "execution_count": 44,
     "metadata": {},
     "output_type": "execute_result"
    }
   ],
   "source": [
    "#Get specific element [row,column]\n",
    "a[1,-1]"
   ]
  },
  {
   "cell_type": "code",
   "execution_count": 43,
   "id": "d4eaff7c",
   "metadata": {},
   "outputs": [
    {
     "data": {
      "text/plain": [
       "10"
      ]
     },
     "execution_count": 43,
     "metadata": {},
     "output_type": "execute_result"
    }
   ],
   "source": [
    "a[1,4]"
   ]
  },
  {
   "cell_type": "code",
   "execution_count": 45,
   "id": "82ab108d",
   "metadata": {},
   "outputs": [
    {
     "data": {
      "text/plain": [
       "array([1, 2, 3, 4, 5])"
      ]
     },
     "execution_count": 45,
     "metadata": {},
     "output_type": "execute_result"
    }
   ],
   "source": [
    "#Get a specific row\n",
    "a[0, ]"
   ]
  },
  {
   "cell_type": "code",
   "execution_count": 49,
   "id": "4ecb10ea",
   "metadata": {},
   "outputs": [
    {
     "data": {
      "text/plain": [
       "array([4, 9])"
      ]
     },
     "execution_count": 49,
     "metadata": {},
     "output_type": "execute_result"
    }
   ],
   "source": [
    "#Get a specific column\n",
    "a[:,3]"
   ]
  },
  {
   "cell_type": "code",
   "execution_count": 51,
   "id": "f7af9ab6",
   "metadata": {},
   "outputs": [
    {
     "data": {
      "text/plain": [
       "array([2, 3, 4, 5])"
      ]
     },
     "execution_count": 51,
     "metadata": {},
     "output_type": "execute_result"
    }
   ],
   "source": [
    "#[start:stop:step]\n",
    "a[0,1::]"
   ]
  },
  {
   "cell_type": "code",
   "execution_count": 52,
   "id": "d60c15a7",
   "metadata": {},
   "outputs": [],
   "source": [
    "# Reassigning or updating\n",
    "a[0,3] = 100"
   ]
  },
  {
   "cell_type": "code",
   "execution_count": 53,
   "id": "7b40a079",
   "metadata": {},
   "outputs": [
    {
     "data": {
      "text/plain": [
       "array([[  1,   2,   3, 100,   5],\n",
       "       [  6,   7,   8,   9,  10]])"
      ]
     },
     "execution_count": 53,
     "metadata": {},
     "output_type": "execute_result"
    }
   ],
   "source": [
    "a"
   ]
  },
  {
   "cell_type": "code",
   "execution_count": 55,
   "id": "be7cffec",
   "metadata": {},
   "outputs": [],
   "source": [
    "a[:,2]=5"
   ]
  },
  {
   "cell_type": "code",
   "execution_count": 56,
   "id": "9d3427cf",
   "metadata": {},
   "outputs": [
    {
     "data": {
      "text/plain": [
       "array([[  1,   2,   5, 100,   5],\n",
       "       [  6,   7,   5,   9,  10]])"
      ]
     },
     "execution_count": 56,
     "metadata": {},
     "output_type": "execute_result"
    }
   ],
   "source": [
    "a"
   ]
  },
  {
   "cell_type": "code",
   "execution_count": 57,
   "id": "b7d89d13",
   "metadata": {},
   "outputs": [],
   "source": [
    "new_ = np.array([[1,2,3,4],[5,6,7,8],[9,10,11,12]])"
   ]
  },
  {
   "cell_type": "code",
   "execution_count": 59,
   "id": "c50a8f3f",
   "metadata": {},
   "outputs": [
    {
     "data": {
      "text/plain": [
       "array([3, 7])"
      ]
     },
     "execution_count": 59,
     "metadata": {},
     "output_type": "execute_result"
    }
   ],
   "source": [
    "new_[:2,2]"
   ]
  },
  {
   "cell_type": "markdown",
   "id": "be512cc1",
   "metadata": {},
   "source": [
    "<B>Initializing Different types of arrays</b>"
   ]
  },
  {
   "cell_type": "code",
   "execution_count": 60,
   "id": "8fdbe596",
   "metadata": {},
   "outputs": [
    {
     "data": {
      "text/plain": [
       "array([[[[0., 0., 0., 0., 0.],\n",
       "         [0., 0., 0., 0., 0.],\n",
       "         [0., 0., 0., 0., 0.],\n",
       "         [0., 0., 0., 0., 0.]],\n",
       "\n",
       "        [[0., 0., 0., 0., 0.],\n",
       "         [0., 0., 0., 0., 0.],\n",
       "         [0., 0., 0., 0., 0.],\n",
       "         [0., 0., 0., 0., 0.]],\n",
       "\n",
       "        [[0., 0., 0., 0., 0.],\n",
       "         [0., 0., 0., 0., 0.],\n",
       "         [0., 0., 0., 0., 0.],\n",
       "         [0., 0., 0., 0., 0.]]],\n",
       "\n",
       "\n",
       "       [[[0., 0., 0., 0., 0.],\n",
       "         [0., 0., 0., 0., 0.],\n",
       "         [0., 0., 0., 0., 0.],\n",
       "         [0., 0., 0., 0., 0.]],\n",
       "\n",
       "        [[0., 0., 0., 0., 0.],\n",
       "         [0., 0., 0., 0., 0.],\n",
       "         [0., 0., 0., 0., 0.],\n",
       "         [0., 0., 0., 0., 0.]],\n",
       "\n",
       "        [[0., 0., 0., 0., 0.],\n",
       "         [0., 0., 0., 0., 0.],\n",
       "         [0., 0., 0., 0., 0.],\n",
       "         [0., 0., 0., 0., 0.]]]])"
      ]
     },
     "execution_count": 60,
     "metadata": {},
     "output_type": "execute_result"
    }
   ],
   "source": [
    "np.zeros((2,3,4,5))"
   ]
  },
  {
   "cell_type": "code",
   "execution_count": 61,
   "id": "20ada2f5",
   "metadata": {},
   "outputs": [
    {
     "data": {
      "text/plain": [
       "array([[1, 1, 1],\n",
       "       [1, 1, 1],\n",
       "       [1, 1, 1]])"
      ]
     },
     "execution_count": 61,
     "metadata": {},
     "output_type": "execute_result"
    }
   ],
   "source": [
    "np.ones((3,3),dtype=\"int32\")"
   ]
  },
  {
   "cell_type": "code",
   "execution_count": 62,
   "id": "2570b3ef",
   "metadata": {},
   "outputs": [
    {
     "data": {
      "text/plain": [
       "array([[7, 7, 7, 7],\n",
       "       [7, 7, 7, 7],\n",
       "       [7, 7, 7, 7]])"
      ]
     },
     "execution_count": 62,
     "metadata": {},
     "output_type": "execute_result"
    }
   ],
   "source": [
    "#Any other number\n",
    "# np.full(shape,number)\n",
    "np.full((3,4),7)"
   ]
  },
  {
   "cell_type": "code",
   "execution_count": 63,
   "id": "833dd764",
   "metadata": {},
   "outputs": [
    {
     "data": {
      "text/plain": [
       "array([[10, 10, 10, 10, 10],\n",
       "       [10, 10, 10, 10, 10]])"
      ]
     },
     "execution_count": 63,
     "metadata": {},
     "output_type": "execute_result"
    }
   ],
   "source": [
    "#Any other number full_like ##Using the already available array\n",
    "np.full_like(a,10)"
   ]
  },
  {
   "cell_type": "code",
   "execution_count": 67,
   "id": "34952c8b",
   "metadata": {},
   "outputs": [],
   "source": [
    "# Random decimal number\n",
    "a = np.random.rand(2,3) \n",
    "b = np.random.random((2,2)) #takes tuple as single value argument"
   ]
  },
  {
   "cell_type": "code",
   "execution_count": 65,
   "id": "3b103f13",
   "metadata": {},
   "outputs": [
    {
     "data": {
      "text/plain": [
       "array([[0.17537105, 0.10405271],\n",
       "       [0.03786272, 0.28872527]])"
      ]
     },
     "execution_count": 65,
     "metadata": {},
     "output_type": "execute_result"
    }
   ],
   "source": [
    "b"
   ]
  },
  {
   "cell_type": "code",
   "execution_count": 68,
   "id": "e5ddcd5b",
   "metadata": {},
   "outputs": [
    {
     "data": {
      "text/plain": [
       "array([[0.00567922, 0.53415509, 0.13345347],\n",
       "       [0.88689858, 0.54597745, 0.92279528]])"
      ]
     },
     "execution_count": 68,
     "metadata": {},
     "output_type": "execute_result"
    }
   ],
   "source": [
    "a"
   ]
  },
  {
   "cell_type": "code",
   "execution_count": 69,
   "id": "4a9001b4",
   "metadata": {},
   "outputs": [
    {
     "data": {
      "text/plain": [
       "array([[0.98828252, 0.74023036, 0.45229144],\n",
       "       [0.17090035, 0.1781373 , 0.27677573]])"
      ]
     },
     "execution_count": 69,
     "metadata": {},
     "output_type": "execute_result"
    }
   ],
   "source": [
    "np.random.random_sample(a.shape)"
   ]
  },
  {
   "cell_type": "code",
   "execution_count": 75,
   "id": "55e516d9",
   "metadata": {},
   "outputs": [
    {
     "data": {
      "text/plain": [
       "array([[1, 0, 0],\n",
       "       [0, 0, 1],\n",
       "       [0, 1, 0]])"
      ]
     },
     "execution_count": 75,
     "metadata": {},
     "output_type": "execute_result"
    }
   ],
   "source": [
    "# Random Integer values\n",
    "np.random.randint(2,size=(3,3))"
   ]
  },
  {
   "cell_type": "code",
   "execution_count": 76,
   "id": "2ea6663b",
   "metadata": {},
   "outputs": [
    {
     "data": {
      "text/plain": [
       "array([[6, 7, 5],\n",
       "       [3, 3, 6],\n",
       "       [7, 6, 4]])"
      ]
     },
     "execution_count": 76,
     "metadata": {},
     "output_type": "execute_result"
    }
   ],
   "source": [
    "np.random.randint(3,8,size=(3,3))"
   ]
  },
  {
   "cell_type": "code",
   "execution_count": 83,
   "id": "a4a8ad08",
   "metadata": {},
   "outputs": [
    {
     "name": "stdout",
     "output_type": "stream",
     "text": [
      "[[1 0 0]\n",
      " [0 1 0]\n",
      " [0 0 1]]\n"
     ]
    }
   ],
   "source": [
    "# Identity matrix\n",
    "b1=np.identity(3,dtype=\"int8\")\n",
    "print(b1)"
   ]
  },
  {
   "cell_type": "code",
   "execution_count": 86,
   "id": "dc82b06c",
   "metadata": {},
   "outputs": [
    {
     "name": "stdout",
     "output_type": "stream",
     "text": [
      "[[1 2 3]\n",
      " [1 2 3]\n",
      " [1 2 3]]\n"
     ]
    }
   ],
   "source": [
    "#Repeat the array\n",
    "arr = np.array([[1,2,3]])\n",
    "r1 = np.repeat(arr,3,axis=0)\n",
    "print(r1)"
   ]
  },
  {
   "cell_type": "code",
   "execution_count": 89,
   "id": "702f5691",
   "metadata": {},
   "outputs": [],
   "source": [
    "res = np.ones((5,5),dtype=\"int8\")"
   ]
  },
  {
   "cell_type": "code",
   "execution_count": 91,
   "id": "75fff516",
   "metadata": {},
   "outputs": [
    {
     "name": "stdout",
     "output_type": "stream",
     "text": [
      "[[1 1 1 1 1]\n",
      " [1 1 1 1 1]\n",
      " [1 1 1 1 1]\n",
      " [1 1 1 1 1]\n",
      " [1 1 1 1 1]]\n"
     ]
    }
   ],
   "source": [
    "print(res)"
   ]
  },
  {
   "cell_type": "code",
   "execution_count": 92,
   "id": "9f3f25e0",
   "metadata": {},
   "outputs": [],
   "source": [
    "res[2,2]=9"
   ]
  },
  {
   "cell_type": "code",
   "execution_count": 93,
   "id": "53e073d1",
   "metadata": {},
   "outputs": [
    {
     "name": "stdout",
     "output_type": "stream",
     "text": [
      "[[1 1 1 1 1]\n",
      " [1 1 1 1 1]\n",
      " [1 1 9 1 1]\n",
      " [1 1 1 1 1]\n",
      " [1 1 1 1 1]]\n"
     ]
    }
   ],
   "source": [
    "print(res)"
   ]
  },
  {
   "cell_type": "code",
   "execution_count": 94,
   "id": "a331cfda",
   "metadata": {},
   "outputs": [],
   "source": [
    "res[1,1:4] =0\n",
    "res[2,1:4:2] =0\n",
    "res[3,1:4] =0"
   ]
  },
  {
   "cell_type": "code",
   "execution_count": 95,
   "id": "6923ed0f",
   "metadata": {},
   "outputs": [
    {
     "name": "stdout",
     "output_type": "stream",
     "text": [
      "[[1 1 1 1 1]\n",
      " [1 0 0 0 1]\n",
      " [1 0 9 0 1]\n",
      " [1 0 0 0 1]\n",
      " [1 1 1 1 1]]\n"
     ]
    }
   ],
   "source": [
    "print(res)"
   ]
  },
  {
   "cell_type": "code",
   "execution_count": 100,
   "id": "4fece651",
   "metadata": {},
   "outputs": [
    {
     "name": "stdout",
     "output_type": "stream",
     "text": [
      "[[0. 0. 0.]\n",
      " [0. 0. 0.]\n",
      " [0. 0. 0.]]\n",
      "[[0. 0. 0.]\n",
      " [0. 9. 0.]\n",
      " [0. 0. 0.]]\n"
     ]
    }
   ],
   "source": [
    "#alternate way\n",
    "z = np.zeros((3,3))\n",
    "print(z)\n",
    "z[1,1]=9\n",
    "print(z)"
   ]
  },
  {
   "cell_type": "code",
   "execution_count": 101,
   "id": "11731e76",
   "metadata": {},
   "outputs": [],
   "source": [
    "res[1:4,1:4] =z"
   ]
  },
  {
   "cell_type": "code",
   "execution_count": 103,
   "id": "cffdd159",
   "metadata": {},
   "outputs": [
    {
     "name": "stdout",
     "output_type": "stream",
     "text": [
      "[[1 1 1 1 1]\n",
      " [1 0 0 0 1]\n",
      " [1 0 9 0 1]\n",
      " [1 0 0 0 1]\n",
      " [1 1 1 1 1]]\n"
     ]
    }
   ],
   "source": [
    "print(res)"
   ]
  },
  {
   "cell_type": "markdown",
   "id": "76e34966",
   "metadata": {},
   "source": [
    "#### Be careful with copying variables!!"
   ]
  },
  {
   "cell_type": "code",
   "execution_count": 105,
   "id": "47928b8c",
   "metadata": {},
   "outputs": [
    {
     "name": "stdout",
     "output_type": "stream",
     "text": [
      "[1 2 3]\n"
     ]
    }
   ],
   "source": [
    "a=np.array([1,2,3])\n",
    "b=a\n",
    "print(a)"
   ]
  },
  {
   "cell_type": "code",
   "execution_count": 107,
   "id": "dce2b78d",
   "metadata": {},
   "outputs": [
    {
     "name": "stdout",
     "output_type": "stream",
     "text": [
      "[1 2 3]\n"
     ]
    }
   ],
   "source": [
    "print(b)"
   ]
  },
  {
   "cell_type": "code",
   "execution_count": 108,
   "id": "8651357e",
   "metadata": {},
   "outputs": [
    {
     "name": "stdout",
     "output_type": "stream",
     "text": [
      "[100   2   3]\n"
     ]
    }
   ],
   "source": [
    "b[0]=100\n",
    "print(b)"
   ]
  },
  {
   "cell_type": "code",
   "execution_count": 109,
   "id": "88afd5b6",
   "metadata": {},
   "outputs": [
    {
     "name": "stdout",
     "output_type": "stream",
     "text": [
      "[100   2   3]\n"
     ]
    }
   ],
   "source": [
    "print(a) ##it change the original value where it is copied"
   ]
  },
  {
   "cell_type": "code",
   "execution_count": 110,
   "id": "86e21b3d",
   "metadata": {},
   "outputs": [],
   "source": [
    "##TO prevent that use .copy()\n",
    "b = a.copy()"
   ]
  },
  {
   "cell_type": "markdown",
   "id": "f8b7e11a",
   "metadata": {},
   "source": [
    "------------------------------------------------"
   ]
  },
  {
   "cell_type": "markdown",
   "id": "6abcd7e2",
   "metadata": {},
   "source": [
    "<b>Mathematics</b>"
   ]
  },
  {
   "cell_type": "code",
   "execution_count": 118,
   "id": "49385e50",
   "metadata": {},
   "outputs": [],
   "source": [
    "a=np.array((1,2,3))\n"
   ]
  },
  {
   "cell_type": "code",
   "execution_count": 113,
   "id": "379c2018",
   "metadata": {},
   "outputs": [
    {
     "data": {
      "text/plain": [
       "array([3, 4, 5])"
      ]
     },
     "execution_count": 113,
     "metadata": {},
     "output_type": "execute_result"
    }
   ],
   "source": [
    "a+2 #-,*,/"
   ]
  },
  {
   "cell_type": "code",
   "execution_count": 114,
   "id": "b3fae267",
   "metadata": {},
   "outputs": [],
   "source": [
    "b=np.array([1,2,3])\n",
    "res=a+b"
   ]
  },
  {
   "cell_type": "code",
   "execution_count": 115,
   "id": "21960227",
   "metadata": {},
   "outputs": [
    {
     "data": {
      "text/plain": [
       "array([2, 4, 6])"
      ]
     },
     "execution_count": 115,
     "metadata": {},
     "output_type": "execute_result"
    }
   ],
   "source": [
    "res"
   ]
  },
  {
   "cell_type": "code",
   "execution_count": 119,
   "id": "e77f0d74",
   "metadata": {},
   "outputs": [
    {
     "data": {
      "text/plain": [
       "array([1, 4, 9], dtype=int32)"
      ]
     },
     "execution_count": 119,
     "metadata": {},
     "output_type": "execute_result"
    }
   ],
   "source": [
    "a**2"
   ]
  },
  {
   "cell_type": "markdown",
   "id": "a172129e",
   "metadata": {},
   "source": [
    "<b>Trignometry</b>"
   ]
  },
  {
   "cell_type": "code",
   "execution_count": 121,
   "id": "ddf431dd",
   "metadata": {},
   "outputs": [
    {
     "data": {
      "text/plain": [
       "array([0.84147098, 0.90929743, 0.14112001])"
      ]
     },
     "execution_count": 121,
     "metadata": {},
     "output_type": "execute_result"
    }
   ],
   "source": [
    "np.sin(a)"
   ]
  },
  {
   "cell_type": "code",
   "execution_count": 134,
   "id": "4b2d5f57",
   "metadata": {},
   "outputs": [
    {
     "data": {
      "text/plain": [
       "array([[0.5405, 0.5405, 0.5405],\n",
       "       [0.5405, 0.5405, 0.5405]], dtype=float16)"
      ]
     },
     "execution_count": 134,
     "metadata": {},
     "output_type": "execute_result"
    }
   ],
   "source": [
    "np.cos(a)"
   ]
  },
  {
   "cell_type": "code",
   "execution_count": 123,
   "id": "1b8862a6",
   "metadata": {},
   "outputs": [
    {
     "data": {
      "text/plain": [
       "array([ 1.55740772, -2.18503986, -0.14254654])"
      ]
     },
     "execution_count": 123,
     "metadata": {},
     "output_type": "execute_result"
    }
   ],
   "source": [
    "np.tan(a)"
   ]
  },
  {
   "cell_type": "markdown",
   "id": "0afff65d",
   "metadata": {},
   "source": [
    "<b>Linera Algebra</b>"
   ]
  },
  {
   "cell_type": "code",
   "execution_count": 126,
   "id": "061d5a57",
   "metadata": {},
   "outputs": [
    {
     "name": "stdout",
     "output_type": "stream",
     "text": [
      "[[1 1 1]\n",
      " [1 1 1]]\n"
     ]
    }
   ],
   "source": [
    "a=np.ones([2,3],dtype=\"int8\") #therow value and the column of another should be same\n",
    "print(a)"
   ]
  },
  {
   "cell_type": "code",
   "execution_count": 128,
   "id": "179bd7dd",
   "metadata": {},
   "outputs": [
    {
     "name": "stdout",
     "output_type": "stream",
     "text": [
      "[[2 2]\n",
      " [2 2]\n",
      " [2 2]]\n"
     ]
    }
   ],
   "source": [
    "b=np.full([3,2],2,dtype=\"int8\")\n",
    "print(b)"
   ]
  },
  {
   "cell_type": "code",
   "execution_count": 130,
   "id": "241d4365",
   "metadata": {},
   "outputs": [
    {
     "name": "stdout",
     "output_type": "stream",
     "text": [
      "[[6 6]\n",
      " [6 6]]\n"
     ]
    }
   ],
   "source": [
    "res = np.matmul(a,b) #matrix multiply\n",
    "print(res)"
   ]
  },
  {
   "cell_type": "code",
   "execution_count": 133,
   "id": "ee8c8139",
   "metadata": {},
   "outputs": [
    {
     "data": {
      "text/plain": [
       "1.0"
      ]
     },
     "execution_count": 133,
     "metadata": {},
     "output_type": "execute_result"
    }
   ],
   "source": [
    "#Find the determinant\n",
    "c= np.identity(3)\n",
    "np.linalg.det(c)"
   ]
  },
  {
   "cell_type": "markdown",
   "id": "bff84bf8",
   "metadata": {},
   "source": [
    "<b> Statistics</b>"
   ]
  },
  {
   "cell_type": "code",
   "execution_count": 135,
   "id": "563fe5f7",
   "metadata": {},
   "outputs": [
    {
     "data": {
      "text/plain": [
       "array([[1, 2, 3],\n",
       "       [4, 5, 6]])"
      ]
     },
     "execution_count": 135,
     "metadata": {},
     "output_type": "execute_result"
    }
   ],
   "source": [
    "stats = np.array([[1,2,3],[4,5,6]])\n",
    "stats"
   ]
  },
  {
   "cell_type": "code",
   "execution_count": 139,
   "id": "dae6464a",
   "metadata": {},
   "outputs": [
    {
     "data": {
      "text/plain": [
       "array([1, 4])"
      ]
     },
     "execution_count": 139,
     "metadata": {},
     "output_type": "execute_result"
    }
   ],
   "source": [
    "np.min(stats,axis=1)"
   ]
  },
  {
   "cell_type": "code",
   "execution_count": 140,
   "id": "48fdd187",
   "metadata": {},
   "outputs": [
    {
     "data": {
      "text/plain": [
       "array([1, 2, 3])"
      ]
     },
     "execution_count": 140,
     "metadata": {},
     "output_type": "execute_result"
    }
   ],
   "source": [
    "np.min(stats,axis=0)"
   ]
  },
  {
   "cell_type": "code",
   "execution_count": 141,
   "id": "0a107683",
   "metadata": {},
   "outputs": [
    {
     "data": {
      "text/plain": [
       "1"
      ]
     },
     "execution_count": 141,
     "metadata": {},
     "output_type": "execute_result"
    }
   ],
   "source": [
    "np.min(stats) #minimum value"
   ]
  },
  {
   "cell_type": "code",
   "execution_count": 142,
   "id": "0dc2a6ec",
   "metadata": {},
   "outputs": [
    {
     "data": {
      "text/plain": [
       "6"
      ]
     },
     "execution_count": 142,
     "metadata": {},
     "output_type": "execute_result"
    }
   ],
   "source": [
    "np.max(stats) #maximum value"
   ]
  },
  {
   "cell_type": "code",
   "execution_count": 143,
   "id": "3c7a5e37",
   "metadata": {},
   "outputs": [
    {
     "data": {
      "text/plain": [
       "array([3, 6])"
      ]
     },
     "execution_count": 143,
     "metadata": {},
     "output_type": "execute_result"
    }
   ],
   "source": [
    "np.max(stats,axis=1)"
   ]
  },
  {
   "cell_type": "code",
   "execution_count": 144,
   "id": "4b9d4d91",
   "metadata": {},
   "outputs": [
    {
     "data": {
      "text/plain": [
       "21"
      ]
     },
     "execution_count": 144,
     "metadata": {},
     "output_type": "execute_result"
    }
   ],
   "source": [
    "np.sum(stats)"
   ]
  },
  {
   "cell_type": "code",
   "execution_count": 145,
   "id": "a010f624",
   "metadata": {},
   "outputs": [
    {
     "data": {
      "text/plain": [
       "array([ 6, 15])"
      ]
     },
     "execution_count": 145,
     "metadata": {},
     "output_type": "execute_result"
    }
   ],
   "source": [
    "np.sum(stats,axis=1)"
   ]
  },
  {
   "cell_type": "markdown",
   "id": "d74adfa0",
   "metadata": {},
   "source": [
    "<b>Reorganizing arrays</b>"
   ]
  },
  {
   "cell_type": "code",
   "execution_count": 148,
   "id": "14516b00",
   "metadata": {},
   "outputs": [
    {
     "name": "stdout",
     "output_type": "stream",
     "text": [
      "[[ 1  2  3  4]\n",
      " [12  3  4  5]]\n"
     ]
    }
   ],
   "source": [
    "before = np.array([[1,2,3,4],[12,3,4,5]])\n",
    "print(before)"
   ]
  },
  {
   "cell_type": "code",
   "execution_count": 154,
   "id": "c0490caa",
   "metadata": {},
   "outputs": [
    {
     "name": "stdout",
     "output_type": "stream",
     "text": [
      "[[ 1  2]\n",
      " [ 3  4]\n",
      " [12  3]\n",
      " [ 4  5]]\n"
     ]
    }
   ],
   "source": [
    "after = before.reshape(4,2)\n",
    "print(after)"
   ]
  },
  {
   "cell_type": "code",
   "execution_count": 155,
   "id": "f99b5f41",
   "metadata": {},
   "outputs": [],
   "source": [
    "#Vertically Stacking vectors\n",
    "v1 =np.array([1,2,3,4])\n",
    "v2 =np.array([5,6,7,8])\n",
    "\n",
    "res = np.vstack([v1,v2,v2,v1])"
   ]
  },
  {
   "cell_type": "code",
   "execution_count": 157,
   "id": "370f1b8b",
   "metadata": {},
   "outputs": [
    {
     "name": "stdout",
     "output_type": "stream",
     "text": [
      "[[1 2 3 4]\n",
      " [5 6 7 8]\n",
      " [5 6 7 8]\n",
      " [1 2 3 4]]\n"
     ]
    }
   ],
   "source": [
    "print(res)"
   ]
  },
  {
   "cell_type": "code",
   "execution_count": 159,
   "id": "412aecf4",
   "metadata": {},
   "outputs": [],
   "source": [
    "#Horizontal stacking\n",
    "h1 = np.ones((2,4))\n",
    "h2 = np.zeros((2,2))\n",
    "\n",
    "res1=np.hstack((h1,h2))"
   ]
  },
  {
   "cell_type": "code",
   "execution_count": 160,
   "id": "a01bb593",
   "metadata": {},
   "outputs": [
    {
     "name": "stdout",
     "output_type": "stream",
     "text": [
      "[[1. 1. 1. 1. 0. 0.]\n",
      " [1. 1. 1. 1. 0. 0.]]\n"
     ]
    }
   ],
   "source": [
    "print(res1)"
   ]
  },
  {
   "cell_type": "markdown",
   "id": "6d87d5b9",
   "metadata": {},
   "source": [
    "<b>Miscellanous</b>"
   ]
  },
  {
   "cell_type": "markdown",
   "id": "c807b11c",
   "metadata": {},
   "source": [
    "<b>Load a data from a file</b>"
   ]
  },
  {
   "cell_type": "code",
   "execution_count": 166,
   "id": "a74d6b9a",
   "metadata": {},
   "outputs": [
    {
     "data": {
      "text/plain": [
       "array([[1., 2., 3., 4., 5.],\n",
       "       [1., 2., 3., 4., 5.],\n",
       "       [1., 2., 3., 4., 5.],\n",
       "       [1., 2., 3., 4., 5.]])"
      ]
     },
     "execution_count": 166,
     "metadata": {},
     "output_type": "execute_result"
    }
   ],
   "source": [
    "file_data=np.genfromtxt('numpy-demo.txt',delimiter=\",\")"
   ]
  },
  {
   "cell_type": "code",
   "execution_count": 165,
   "id": "4cf2ad33",
   "metadata": {},
   "outputs": [
    {
     "data": {
      "text/plain": [
       "array([[1, 2, 3, 4, 5],\n",
       "       [1, 2, 3, 4, 5],\n",
       "       [1, 2, 3, 4, 5],\n",
       "       [1, 2, 3, 4, 5]], dtype=int8)"
      ]
     },
     "execution_count": 165,
     "metadata": {},
     "output_type": "execute_result"
    }
   ],
   "source": [
    "file_data.astype(\"int8\")"
   ]
  },
  {
   "cell_type": "markdown",
   "id": "2fa48586",
   "metadata": {},
   "source": [
    "##### Boolean masking and advance masking"
   ]
  },
  {
   "cell_type": "code",
   "execution_count": 167,
   "id": "d68db146",
   "metadata": {},
   "outputs": [
    {
     "data": {
      "text/plain": [
       "array([[False, False, False, False, False],\n",
       "       [False, False, False, False, False],\n",
       "       [False, False, False, False, False],\n",
       "       [False, False, False, False, False]])"
      ]
     },
     "execution_count": 167,
     "metadata": {},
     "output_type": "execute_result"
    }
   ],
   "source": [
    "file_data > 50"
   ]
  },
  {
   "cell_type": "code",
   "execution_count": 168,
   "id": "4188390d",
   "metadata": {},
   "outputs": [
    {
     "data": {
      "text/plain": [
       "array([[ True,  True,  True,  True,  True],\n",
       "       [ True,  True,  True,  True,  True],\n",
       "       [ True,  True,  True,  True,  True],\n",
       "       [ True,  True,  True,  True,  True]])"
      ]
     },
     "execution_count": 168,
     "metadata": {},
     "output_type": "execute_result"
    }
   ],
   "source": [
    "file_data > 0"
   ]
  },
  {
   "cell_type": "code",
   "execution_count": 170,
   "id": "6eca4fc7",
   "metadata": {},
   "outputs": [
    {
     "data": {
      "text/plain": [
       "array([4., 5., 4., 5., 4., 5., 4., 5.])"
      ]
     },
     "execution_count": 170,
     "metadata": {},
     "output_type": "execute_result"
    }
   ],
   "source": [
    "file_data [file_data > 3]"
   ]
  },
  {
   "cell_type": "code",
   "execution_count": 173,
   "id": "fba08cfd",
   "metadata": {},
   "outputs": [
    {
     "data": {
      "text/plain": [
       "array([2, 4, 9])"
      ]
     },
     "execution_count": 173,
     "metadata": {},
     "output_type": "execute_result"
    }
   ],
   "source": [
    "#You can index with a list\n",
    "a= np.array([1,2,3,4,5,6,7,8,9])\n",
    "a[[1,3,8]]"
   ]
  },
  {
   "cell_type": "code",
   "execution_count": 176,
   "id": "3091c93b",
   "metadata": {},
   "outputs": [
    {
     "data": {
      "text/plain": [
       "array([False, False, False, False, False])"
      ]
     },
     "execution_count": 176,
     "metadata": {},
     "output_type": "execute_result"
    }
   ],
   "source": [
    "np.any(file_data > 50, axis=0)"
   ]
  },
  {
   "cell_type": "code",
   "execution_count": 177,
   "id": "d6141403",
   "metadata": {},
   "outputs": [
    {
     "data": {
      "text/plain": [
       "array([False, False, False, False, False])"
      ]
     },
     "execution_count": 177,
     "metadata": {},
     "output_type": "execute_result"
    }
   ],
   "source": [
    "np.all(file_data > 50, axis=0)"
   ]
  },
  {
   "cell_type": "code",
   "execution_count": null,
   "id": "e7103f64",
   "metadata": {},
   "outputs": [],
   "source": []
  }
 ],
 "metadata": {
  "kernelspec": {
   "display_name": "Python 3 (ipykernel)",
   "language": "python",
   "name": "python3"
  },
  "language_info": {
   "codemirror_mode": {
    "name": "ipython",
    "version": 3
   },
   "file_extension": ".py",
   "mimetype": "text/x-python",
   "name": "python",
   "nbconvert_exporter": "python",
   "pygments_lexer": "ipython3",
   "version": "3.9.13"
  }
 },
 "nbformat": 4,
 "nbformat_minor": 5
}

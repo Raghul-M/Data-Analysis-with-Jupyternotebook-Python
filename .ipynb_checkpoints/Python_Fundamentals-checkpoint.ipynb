{
 "cells": [
  {
   "cell_type": "markdown",
   "id": "49207fbb",
   "metadata": {},
   "source": [
    "Python "
   ]
  },
  {
   "cell_type": "code",
   "execution_count": 6,
   "id": "f6e5b7c7",
   "metadata": {},
   "outputs": [
    {
     "name": "stdout",
     "output_type": "stream",
     "text": [
      "Hello Mr.M.Raghul\n"
     ]
    }
   ],
   "source": [
    "f_name=\"Raghul\"\n",
    "l_name=\"M\"\n",
    "All_name=\"Mr.\"+l_name+\".\"+f_name\n",
    "print(\"Hello \"+All_name)"
   ]
  },
  {
   "cell_type": "code",
   "execution_count": 17,
   "id": "7207ff02",
   "metadata": {},
   "outputs": [
    {
     "name": "stdout",
     "output_type": "stream",
     "text": [
      "Your age is : 18 \n",
      "You are eligible for vote : True\n"
     ]
    }
   ],
   "source": [
    "age=18\n",
    "human=True\n",
    "print(\"Your age is :\",age,\"\\nYou are eligible for vote :\",human)\n",
    "#print(type(age))"
   ]
  },
  {
   "cell_type": "code",
   "execution_count": 18,
   "id": "b2dd6352",
   "metadata": {},
   "outputs": [
    {
     "name": "stdout",
     "output_type": "stream",
     "text": [
      "Raghul M\n",
      "20\n",
      "True\n"
     ]
    }
   ],
   "source": [
    "#Multiple Assignment\n",
    "\n",
    "name,age,attractive=\"Raghul M\",20,True\n",
    "print(name)\n",
    "print(age)\n",
    "print(attractive)"
   ]
  },
  {
   "cell_type": "code",
   "execution_count": 19,
   "id": "17156cb4",
   "metadata": {},
   "outputs": [
    {
     "name": "stdout",
     "output_type": "stream",
     "text": [
      "30\n"
     ]
    }
   ],
   "source": [
    "Raghul=karthi=raja=ponn=30\n",
    "print(ponn)"
   ]
  },
  {
   "cell_type": "code",
   "execution_count": 23,
   "id": "303d9aa7",
   "metadata": {},
   "outputs": [
    {
     "name": "stdout",
     "output_type": "stream",
     "text": [
      "Good ! Good ! Good ! \n"
     ]
    }
   ],
   "source": [
    "name = \"Good ! \"\n",
    "print(name*3)"
   ]
  },
  {
   "cell_type": "code",
   "execution_count": 24,
   "id": "5fb82cde",
   "metadata": {},
   "outputs": [
    {
     "name": "stdout",
     "output_type": "stream",
     "text": [
      "Who are u ? Raghul\n",
      "How old are you ? 18\n",
      "Raghul\n",
      "19\n"
     ]
    }
   ],
   "source": [
    "name=input(\"Who are u ? \")\n",
    "age = int(input(\"How old are you ? \"))\n",
    "age+=1\n",
    "print(name)\n",
    "print(age)"
   ]
  },
  {
   "cell_type": "code",
   "execution_count": 27,
   "id": "41665112",
   "metadata": {},
   "outputs": [
    {
     "name": "stdout",
     "output_type": "stream",
     "text": [
      "100000.0\n"
     ]
    }
   ],
   "source": [
    "#Math module\n",
    "import math\n",
    "print(math.pow(10,5))"
   ]
  },
  {
   "cell_type": "code",
   "execution_count": 31,
   "id": "794613c1",
   "metadata": {},
   "outputs": [
    {
     "name": "stdout",
     "output_type": "stream",
     "text": [
      "70\n",
      "10\n"
     ]
    }
   ],
   "source": [
    "a=10\n",
    "b=20\n",
    "c=70\n",
    "print(max(a,b,c))\n",
    "print(min(a,b,c))"
   ]
  },
  {
   "cell_type": "markdown",
   "id": "0e0dcfff",
   "metadata": {},
   "source": [
    "String Slicing\n",
    "<br>[start:stop:step]"
   ]
  },
  {
   "cell_type": "code",
   "execution_count": 44,
   "id": "aca0b07a",
   "metadata": {},
   "outputs": [
    {
     "name": "stdout",
     "output_type": "stream",
     "text": [
      "BoCd\n"
     ]
    }
   ],
   "source": [
    "funky_name=\"Bro Code\"\n",
    "name=funky_name[0::2]\n",
    "print(name)"
   ]
  },
  {
   "cell_type": "markdown",
   "id": "32f4e182",
   "metadata": {},
   "source": [
    "Slic object"
   ]
  },
  {
   "cell_type": "code",
   "execution_count": 42,
   "id": "1d9bba1e",
   "metadata": {},
   "outputs": [],
   "source": [
    "website=\"http://google.com\"\n",
    "#slice = slice(7,-4)\n",
    "#print(website[slice])"
   ]
  },
  {
   "cell_type": "code",
   "execution_count": 46,
   "id": "2044bb5f",
   "metadata": {},
   "outputs": [
    {
     "name": "stdout",
     "output_type": "stream",
     "text": [
      "Enter a name: \n",
      "Enter a name: Raghul\n",
      "Hello Raghul\n"
     ]
    }
   ],
   "source": [
    "name=\"\"\n",
    "while len(name)==0:\n",
    "    name=input(\"Enter a name: \")\n",
    "\n",
    "print(\"Hello \"+name)"
   ]
  },
  {
   "cell_type": "code",
   "execution_count": 48,
   "id": "87bdfb75",
   "metadata": {},
   "outputs": [
    {
     "name": "stdout",
     "output_type": "stream",
     "text": [
      "2\n",
      "4\n",
      "6\n",
      "8\n",
      "10\n",
      "12\n",
      "14\n",
      "16\n",
      "18\n",
      "20\n",
      "22\n",
      "24\n",
      "26\n",
      "28\n",
      "30\n",
      "32\n",
      "34\n",
      "36\n",
      "38\n",
      "40\n",
      "42\n",
      "44\n",
      "46\n",
      "48\n",
      "50\n"
     ]
    }
   ],
   "source": [
    "for i in range(2,52,2):\n",
    "    print(i)"
   ]
  },
  {
   "cell_type": "code",
   "execution_count": 49,
   "id": "9cdb393a",
   "metadata": {},
   "outputs": [
    {
     "name": "stdout",
     "output_type": "stream",
     "text": [
      "R\n",
      "a\n",
      "g\n",
      "h\n",
      "u\n",
      "l\n",
      " \n",
      "M\n"
     ]
    }
   ],
   "source": [
    "name=\"Raghul M\"\n",
    "for i in name:\n",
    "    print(i)"
   ]
  },
  {
   "cell_type": "code",
   "execution_count": 50,
   "id": "c1411c84",
   "metadata": {},
   "outputs": [
    {
     "name": "stdout",
     "output_type": "stream",
     "text": [
      "10\n",
      "9\n",
      "8\n",
      "7\n",
      "6\n",
      "5\n",
      "4\n",
      "3\n",
      "2\n",
      "1\n",
      "Happy new year :)\n"
     ]
    }
   ],
   "source": [
    "import time\n",
    "for i in range(10,0,-1):\n",
    "    print(i)\n",
    "    time.sleep(1)\n",
    "print(\"Happy new year :)\")"
   ]
  },
  {
   "cell_type": "markdown",
   "id": "900eed85",
   "metadata": {},
   "source": [
    "#### IMPORTANT\n",
    "\n",
    "for loop- limited time running\n",
    "while loop - unlimited time"
   ]
  },
  {
   "cell_type": "code",
   "execution_count": 58,
   "id": "f77475c8",
   "metadata": {},
   "outputs": [
    {
     "name": "stdout",
     "output_type": "stream",
     "text": [
      "How many rows? 5\n",
      "How many columns? 10\n",
      "Which symbol do u want? ^\n",
      " ^ ^ ^ ^ ^ ^ ^ ^ ^ ^\n",
      " ^ ^ ^ ^ ^ ^ ^ ^ ^ ^\n",
      " ^ ^ ^ ^ ^ ^ ^ ^ ^ ^\n",
      " ^ ^ ^ ^ ^ ^ ^ ^ ^ ^\n",
      " ^ ^ ^ ^ ^ ^ ^ ^ ^ ^\n"
     ]
    }
   ],
   "source": [
    "rows=int(input(\"How many rows? \"))\n",
    "columns=int(input(\"How many columns? \"))\n",
    "symbols=input(\"Which symbol do u want? \")\n",
    "\n",
    "for i in range(rows):\n",
    "    for j in range(columns):\n",
    "        print(\" \"+symbols,end=\"\")\n",
    "    print()\n",
    "\n",
    "\n"
   ]
  },
  {
   "cell_type": "code",
   "execution_count": 59,
   "id": "7467fe26",
   "metadata": {},
   "outputs": [
    {
     "name": "stdout",
     "output_type": "stream",
     "text": [
      "9176251440"
     ]
    }
   ],
   "source": [
    "phone=\"91-7625-1440\"\n",
    "\n",
    "for i in phone:\n",
    "    if i ==\"-\":\n",
    "        continue\n",
    "    print(i,end=\"\")"
   ]
  },
  {
   "cell_type": "markdown",
   "id": "38cfdcf5",
   "metadata": {},
   "source": [
    "Set in python is unordered , unindexed and do not allow duplicate values eg: setamwr={1,2,3} , faster than list\n",
    "    \n",
    "set1.update(set2) it will add all the items in set2 to set1 another way : set3 = set2.union(set1) it combines both the sets\n",
    "    \n",
    "set1.difference(set2) it prints the elements only in set2\n",
    "set1.intersection(set2) it prints the elements common in both"
   ]
  },
  {
   "cell_type": "markdown",
   "id": "4885f4a6",
   "metadata": {},
   "source": [
    "DICIONARY"
   ]
  },
  {
   "cell_type": "markdown",
   "id": "6dbe238e",
   "metadata": {},
   "source": [
    "dict1.get('Germany') if it is not present in the dictionary it returns none.\n",
    "dict1.keys() print only the key not values\n",
    "dict1.values() print only the values not keys\n",
    "dict1.items() prints both keys and values"
   ]
  },
  {
   "cell_type": "code",
   "execution_count": 62,
   "id": "9e6ea1a0",
   "metadata": {},
   "outputs": [
    {
     "name": "stdout",
     "output_type": "stream",
     "text": [
      "Who are u ? Raghul M\n",
      "Hello Raghul M\n",
      "Welcome ,Who can I help u\n"
     ]
    }
   ],
   "source": [
    "def welcome(name):\n",
    "    print(\"Hello \"+name)\n",
    "    print(\"Welcome ,Who can I help u\")\n",
    "    \n",
    "my_name=input(\"Who are u ? \")\n",
    "welcome(my_name)"
   ]
  },
  {
   "cell_type": "code",
   "execution_count": 69,
   "id": "48972f11",
   "metadata": {},
   "outputs": [
    {
     "name": "stdout",
     "output_type": "stream",
     "text": [
      "Enter num 1:1\n",
      "Enter num 2:2\n",
      "Result 2\n"
     ]
    }
   ],
   "source": [
    "def multiply(num1,num2):\n",
    "    return print(\"Result\",num1*num2)\n",
    "num1=int(input(\"Enter num 1:\"))\n",
    "num2=int(input(\"Enter num 2:\"))\n",
    "multiply(num1,num2)"
   ]
  },
  {
   "cell_type": "markdown",
   "id": "86d6df46",
   "metadata": {},
   "source": [
    "Nested Python Calls"
   ]
  },
  {
   "cell_type": "code",
   "execution_count": 70,
   "id": "8b0e7de7",
   "metadata": {},
   "outputs": [
    {
     "name": "stdout",
     "output_type": "stream",
     "text": [
      "Enter a positive number: -3.14\n",
      "3\n"
     ]
    }
   ],
   "source": [
    "print(round(abs(float(input(\"Enter a positive number: \")))))"
   ]
  },
  {
   "cell_type": "markdown",
   "id": "f3a79c13",
   "metadata": {},
   "source": [
    "*args - pack all the parameters as tuple\n",
    "\n",
    "*meansit is an unpacking operator"
   ]
  },
  {
   "cell_type": "code",
   "execution_count": 73,
   "id": "d704cde7",
   "metadata": {},
   "outputs": [
    {
     "name": "stdout",
     "output_type": "stream",
     "text": [
      "10\n"
     ]
    }
   ],
   "source": [
    "def add(*args):\n",
    "    sum=0\n",
    "    for i in args:\n",
    "        sum+=i\n",
    "        \n",
    "    return print(sum)\n",
    "\n",
    "add(1,2,3,4)"
   ]
  },
  {
   "cell_type": "code",
   "execution_count": null,
   "id": "1aa8746f",
   "metadata": {},
   "outputs": [],
   "source": [
    "tuple to list , eg: tuple=list(tuple) then we can chane the values "
   ]
  },
  {
   "cell_type": "markdown",
   "id": "d0371d91",
   "metadata": {},
   "source": [
    "**kwargs - pack all the parameters as dictionary"
   ]
  },
  {
   "cell_type": "code",
   "execution_count": 77,
   "id": "5085e8ac",
   "metadata": {},
   "outputs": [
    {
     "name": "stdout",
     "output_type": "stream",
     "text": [
      "hello Raghul in M\n"
     ]
    }
   ],
   "source": [
    "def student(**kwargs):\n",
    "    print(\"hello\"+kwargs['first']+\" in\"+kwargs['last'])\n",
    "student(first=\" Raghul\",middle=\"none\",last=\" M\")"
   ]
  },
  {
   "cell_type": "code",
   "execution_count": 7,
   "id": "85a4e131",
   "metadata": {},
   "outputs": [
    {
     "name": "stdout",
     "output_type": "stream",
     "text": [
      "The cow named mike\n",
      "The mike named cow\n"
     ]
    }
   ],
   "source": [
    "animal=\"cow\"\n",
    "name=\"mike\"\n",
    "print('The {} named {}'.format(animal,name))\n",
    "print('The {1} named {0}'.format(animal,name))"
   ]
  },
  {
   "cell_type": "code",
   "execution_count": 8,
   "id": "2159d2af",
   "metadata": {},
   "outputs": [
    {
     "name": "stdout",
     "output_type": "stream",
     "text": [
      "The cow named mike\n"
     ]
    }
   ],
   "source": [
    "text=\"The {} named {}\"\n",
    "print(text.format(animal,name))"
   ]
  },
  {
   "cell_type": "code",
   "execution_count": 17,
   "id": "6b6b5780",
   "metadata": {},
   "outputs": [
    {
     "name": "stdout",
     "output_type": "stream",
     "text": [
      "the name is -bro       -yes\n",
      "the name is -       bro-yes\n",
      "the name is -   bro    -yes\n"
     ]
    }
   ],
   "source": [
    "name=\"bro\"\n",
    "print(\"the name is -{:10}-yes\".format(name))#left padding\n",
    "print(\"the name is -{:>10}-yes\".format(name))#right\n",
    "print(\"the name is -{:^10}-yes\".format(name))#center\n",
    "#print(\"the name is -{name:10}-yes\".format(name))"
   ]
  },
  {
   "cell_type": "code",
   "execution_count": 2,
   "id": "604d6470",
   "metadata": {},
   "outputs": [
    {
     "name": "stdout",
     "output_type": "stream",
     "text": [
      "Value of pi is :3.24\n"
     ]
    }
   ],
   "source": [
    "pi = 3.24325\n",
    "print(\"Value of pi is :{:.2f}\".format(pi))"
   ]
  },
  {
   "cell_type": "code",
   "execution_count": 3,
   "id": "701499eb",
   "metadata": {},
   "outputs": [
    {
     "name": "stdout",
     "output_type": "stream",
     "text": [
      "Value is :10,000\n"
     ]
    }
   ],
   "source": [
    "val=10000\n",
    "print(\"Value is :{:,}\".format(val))# it adds , in every thousands"
   ]
  },
  {
   "cell_type": "code",
   "execution_count": 6,
   "id": "eb6d6c0f",
   "metadata": {},
   "outputs": [
    {
     "name": "stdout",
     "output_type": "stream",
     "text": [
      "Value is :10011100010000\n",
      "Value is :23420\n",
      "Value is :2710\n",
      "Value is :1.000000E+04\n"
     ]
    }
   ],
   "source": [
    "val=10000\n",
    "print(\"Value is :{:b}\".format(val))# it returns binary value of the given value\n",
    "print(\"Value is :{:o}\".format(val))# it returns octal value of the given value\n",
    "print(\"Value is :{:x}\".format(val))# it returns Hexadecimal value of the given value\n",
    "print(\"Value is :{:E}\".format(val))# it returns scientific notation value of the given value"
   ]
  },
  {
   "cell_type": "markdown",
   "id": "08aac484",
   "metadata": {},
   "source": [
    "RANDOM MODULE"
   ]
  },
  {
   "cell_type": "code",
   "execution_count": 12,
   "id": "84a60f87",
   "metadata": {},
   "outputs": [
    {
     "name": "stdout",
     "output_type": "stream",
     "text": [
      "0.12594031675999262\n"
     ]
    }
   ],
   "source": [
    "import random\n",
    "\n",
    "x=random.randint(1,6)# random integers\n",
    "y=random.random()# random floating values\n",
    "print(y)"
   ]
  },
  {
   "cell_type": "code",
   "execution_count": 17,
   "id": "5373525e",
   "metadata": {},
   "outputs": [
    {
     "data": {
      "text/plain": [
       "'scissors'"
      ]
     },
     "execution_count": 17,
     "metadata": {},
     "output_type": "execute_result"
    }
   ],
   "source": [
    "mylist=['rock','paper','scissors']\n",
    "random.choice(mylist)"
   ]
  },
  {
   "cell_type": "code",
   "execution_count": 21,
   "id": "754850ef",
   "metadata": {},
   "outputs": [
    {
     "name": "stdout",
     "output_type": "stream",
     "text": [
      "[9, 5, 4, 1, 'A', 8, 3, 6, 0, 'Q', 'K', 'J', 2, 7]\n"
     ]
    }
   ],
   "source": [
    "cards=[1,2,3,4,5,6,7,8,9,0,\"J\",\"K\",\"Q\",\"A\"]\n",
    "random.shuffle(cards)\n",
    "print(cards)\n"
   ]
  },
  {
   "cell_type": "markdown",
   "id": "1763937b",
   "metadata": {},
   "source": [
    "EXCEPTION HANDLING"
   ]
  },
  {
   "cell_type": "markdown",
   "id": "d6eebde6",
   "metadata": {},
   "source": [
    "We can write exception for particular errors also:\n",
    "eg:\n",
    "    except valueerror:\n",
    "        print(\"value error\")\n",
    "       \n",
    "eg:\n",
    "    except valueerror as e:\n",
    "        print(e)\n",
    "        print(\"value error\")\n",
    "    else:\n",
    "        print(result)\n",
    "    finally:\n",
    "        print(\"It will always execute\")#It will always execute\n",
    "     "
   ]
  },
  {
   "cell_type": "markdown",
   "id": "4e71da7e",
   "metadata": {},
   "source": [
    "FILES IN PYTHON"
   ]
  },
  {
   "cell_type": "markdown",
   "id": "518930fd",
   "metadata": {},
   "source": [
    "import os\n",
    "path=\"file path\" # C://EY//Onedrive //it is for escape sequence of backslash in string\n",
    "\n",
    "if os.path.exists(path):\n",
    "    print(\"exists\")\n",
    "\n",
    "#To check it is a file or not:\n",
    "os.path.isfile(path)\n",
    "#To check it is a folder or not:\n",
    "os.path.isdir(path)\n",
    "#Reading a file:\n",
    "with open('test.txt') as file:\n",
    "   print(file.read())"
   ]
  },
  {
   "cell_type": "code",
   "execution_count": 25,
   "id": "43a99146",
   "metadata": {},
   "outputs": [
    {
     "name": "stdout",
     "output_type": "stream",
     "text": [
      "Hello Raghul :)\n"
     ]
    }
   ],
   "source": [
    "with open('test.txt') as file: # It automatically closes the file after reading\n",
    "    print(file.read())"
   ]
  },
  {
   "cell_type": "code",
   "execution_count": 28,
   "id": "cd8a4d45",
   "metadata": {},
   "outputs": [],
   "source": [
    "text=\"\\nLorem Ipsum is simply dummy text of the printing and typesetting industry. Lorem Ipsum has been the industry's standard dummy text ever since the 1500s, when an unknown printer took a galley of type and scrambled it to make a type specimen book. It has survived not only five centuries, but also the leap into electronic typesetting, remaining essentially unchanged. It was popularised in the 1960s with the release of Letraset sheets containing Lorem Ipsum passages, and more recently with desktop publishing software like Aldus PageMaker including versions of Lorem Ipsum\"\n",
    "with open('test.txt','a') as file: # It automatically closes the file after reading\n",
    "    #w for write, a for append\n",
    "    file.write(text)"
   ]
  },
  {
   "cell_type": "markdown",
   "id": "eed8d85a",
   "metadata": {},
   "source": [
    "Copy, Move,Delete a file"
   ]
  },
  {
   "cell_type": "code",
   "execution_count": 29,
   "id": "21b118aa",
   "metadata": {},
   "outputs": [
    {
     "data": {
      "text/plain": [
       "'demo.txt'"
      ]
     },
     "execution_count": 29,
     "metadata": {},
     "output_type": "execute_result"
    }
   ],
   "source": [
    "import shutil #this module provides 3 functions to copy a file\n",
    "#copyfile() - copies content of a file\n",
    "#copy()- copyfile()+permission mode+destination dir\n",
    "#copy2()- copy() + metadata\n",
    "shutil.copyfile('test.txt','demo.txt')"
   ]
  },
  {
   "cell_type": "code",
   "execution_count": null,
   "id": "9f8eb6a1",
   "metadata": {},
   "outputs": [],
   "source": [
    "os.replace(source,desintaion) # Move a file , we can change the filename while moving\n",
    "os.remove(path or file) #Delete a file\n",
    "os.rmdir(path ) #Delete a empty folder\n",
    "************************************\n",
    "#Dangerus function\n",
    "shutil.rmtree(path)#it will remove the folder containiong all files"
   ]
  },
  {
   "cell_type": "code",
   "execution_count": 32,
   "id": "2ac9a4c1",
   "metadata": {},
   "outputs": [
    {
     "name": "stdout",
     "output_type": "stream",
     "text": [
      "\n",
      "Please wait a moment while I gather a list of all available modules...\n",
      "\n"
     ]
    },
    {
     "name": "stderr",
     "output_type": "stream",
     "text": [
      "C:\\Users\\ER258MG\\Anaconda3\\lib\\site-packages\\IPython\\kernel\\__init__.py:12: ShimWarning: The `IPython.kernel` package has been deprecated since IPython 4.0.You should import from ipykernel or jupyter_client instead.\n",
      "  warn(\"The `IPython.kernel` package has been deprecated since IPython 4.0.\"\n",
      "WARNING: AstropyDeprecationWarning: The private astropy._erfa module has been made into its own package, pyerfa, which is a dependency of astropy and can be imported directly using \"import erfa\" [astropy._erfa]\n",
      "C:\\Users\\ER258MG\\Anaconda3\\lib\\site-packages\\paramiko\\transport.py:219: CryptographyDeprecationWarning: Blowfish has been deprecated\n",
      "  \"class\": algorithms.Blowfish,\n",
      "C:\\Users\\ER258MG\\Anaconda3\\lib\\site-packages\\nltk\\twitter\\__init__.py:20: UserWarning: The twython library has not been installed. Some functionality from the twitter package will not be available.\n",
      "  warnings.warn(\n",
      "C:\\Users\\ER258MG\\Anaconda3\\lib\\site-packages\\setuptools\\_distutils\\_msvccompiler.py:563: UserWarning: Fallback spawn triggered. Please update distutils monkeypatch.\n",
      "  warnings.warn(\"Fallback spawn triggered. Please update distutils monkeypatch.\")\n",
      "C:\\Users\\ER258MG\\Anaconda3\\lib\\site-packages\\_distutils_hack\\__init__.py:33: UserWarning: Setuptools is replacing distutils.\n",
      "  warnings.warn(\"Setuptools is replacing distutils.\")\n",
      "No QCoreApplication instance found. Application patches not applied. You have to call load_stylesheet function after instantiation of QApplication to take effect. \n",
      "C:\\Users\\ER258MG\\Anaconda3\\lib\\site-packages\\torch\\distributed\\_sharded_tensor\\__init__.py:8: DeprecationWarning:\n",
      "\n",
      "torch.distributed._sharded_tensor will be deprecated, use torch.distributed._shard.sharded_tensor instead\n",
      "\n",
      "C:\\Users\\ER258MG\\Anaconda3\\lib\\site-packages\\torch\\distributed\\_sharding_spec\\__init__.py:8: DeprecationWarning:\n",
      "\n",
      "torch.distributed._sharding_spec will be deprecated, use torch.distributed._shard.sharding_spec instead\n",
      "\n",
      "NOTE: Redirects are currently not supported in Windows or MacOs.\n",
      "C:\\Users\\ER258MG\\Anaconda3\\lib\\site-packages\\wordcloud\\wordcloud.py:35: ResourceWarning:\n",
      "\n",
      "unclosed file <_io.TextIOWrapper name='C:\\\\Users\\\\ER258MG\\\\Anaconda3\\\\lib\\\\site-packages\\\\wordcloud\\\\stopwords' mode='r' encoding='cp1252'>\n",
      "\n",
      "C:\\Users\\ER258MG\\Anaconda3\\lib\\pkgutil.py:108: VisibleDeprecationWarning:\n",
      "\n",
      "zmq.eventloop.minitornado is deprecated in pyzmq 14.0 and will be removed.\n",
      "    Install tornado itself to use zmq with the tornado IOLoop.\n",
      "    \n",
      "\n"
     ]
    },
    {
     "name": "stdout",
     "output_type": "stream",
     "text": [
      "Cython              conda_build         mmap                sniffio\n",
      "IPython             conda_content_trust mmapfile            snowballstemmer\n",
      "OpenSSL             conda_env           mmsystem            snscrape\n",
      "PIL                 conda_pack          mock                socket\n",
      "PyQt5               conda_package_handling modulefinder        socketserver\n",
      "TBB                 conda_token         mpmath              socks\n",
      "__future__          conda_verify        msgpack             sockshandler\n",
      "_abc                configparser        msilib              sortedcollections\n",
      "_aix_support        constantly          msvcrt              sortedcontainers\n",
      "_argon2_cffi_bindings contextlib          multidict           soupsieve\n",
      "_ast                contextvars         multipledispatch    sphinx\n",
      "_asyncio            cookiecutter        multiprocessing     spyder\n",
      "_bisect             copy                munch               spyder_kernels\n",
      "_black_version      copyreg             munkres             sqlalchemy\n",
      "_blake2             crypt               mypy_extensions     sqlite3\n",
      "_bootlocale         cryptography        nacl                sre_compile\n",
      "_bootsubprocess     cssselect           navigator_updater   sre_constants\n",
      "_bz2                csv                 nbclassic           sre_parse\n",
      "_cffi_backend       ctypes              nbclient            ssl\n",
      "_codecs             curl                nbconvert           sspi\n",
      "_codecs_cn          curses              nbformat            sspicon\n",
      "_codecs_hk          cv2                 nest_asyncio        stat\n",
      "_codecs_iso2022     cvzone              netbios             statistics\n",
      "_codecs_jp          cwp                 netrc               statsmodels\n",
      "_codecs_kr          cycler              networkx            storemagic\n",
      "_codecs_tw          cython              nltk                string\n",
      "_collections        cythonmagic         nntplib             stringprep\n",
      "_collections_abc    cytoolz             nose                struct\n",
      "_compat_pickle      daal4py             notebook            subprocess\n",
      "_compression        dask                nt                  sunau\n",
      "_contextvars        dataclasses         ntpath              symbol\n",
      "_csv                dataframe_image     ntsecuritycon       sympy\n",
      "_ctypes             datashader          nturl2path          sympyprinting\n",
      "_ctypes_test        datashape           numba               symtable\n",
      "_datetime           datetime            numbergen           sys\n",
      "_decimal            dateutil            numbers             sysconfig\n",
      "_distutils_hack     dbi                 numexpr             tables\n",
      "_dlib_pybind11      dbm                 numpy               tabnanny\n",
      "_elementtree        dde                 numpydoc            tabulate\n",
      "_functools          debugpy             oauthlib            tarfile\n",
      "_hashlib            decimal             odbc                tbb\n",
      "_heapq              decorator           olefile             tblib\n",
      "_imp                defusedxml          onedal              telnetlib\n",
      "_io                 diff_match_patch    opcode              tempfile\n",
      "_json               difflib             openpyxl            tenacity\n",
      "_locale             dill                operator            terminado\n",
      "_lsprof             dis                 optparse            test\n",
      "_lzma               distributed         os                  test_pycosat\n",
      "_markupbase         distutils           outcome             testpath\n",
      "_md5                dlib                packaging           tests\n",
      "_msi                doctest             pandas              text_unidecode\n",
      "_multibytecodec     docutils            pandocfilters       textdistance\n",
      "_multiprocessing    email               panel               textwrap\n",
      "_nsis               encodings           param               this\n",
      "_opcode             ensurepip           paramiko            threading\n",
      "_operator           entrypoints         parsel              threadpoolctl\n",
      "_osx_support        enum                parser              three_merge\n",
      "_overlapped         erfa                parso               tifffile\n",
      "_peg_parser         errno               partd               time\n",
      "_pickle             et_xmlfile          past                timeit\n",
      "_plotly_future_     exceptiongroup      pathlib             timer\n",
      "_plotly_utils       face_recognition    pathspec            tinycss\n",
      "_py_abc             face_recognition_models patsy               tkinter\n",
      "_pydecimal          fastjsonschema      pdb                 tldextract\n",
      "_pyio               faulthandler        pep8                tlz\n",
      "_pyrsistent_version filecmp             perfmon             token\n",
      "_pytest             fileinput           pexpect             tokenize\n",
      "_queue              filelock            pickle              tokenizers\n",
      "_random             fiona               pickleshare         toml\n",
      "_sha1               flake8              pickletools         tomli\n",
      "_sha256             flask               pip                 tomlkit\n",
      "_sha3               flask_cors          pip_system_certs    toolz\n",
      "_sha512             fnmatch             pipes               torch\n",
      "_signal             fontTools           pkg_resources       torchgen\n",
      "_sitebuiltins       formatter           pkginfo             tornado\n",
      "_socket             fractions           pkgutil             tqdm\n",
      "_sqlite3            frozenlist          platform            trace\n",
      "_sre                fsspec              platformdirs        traceback\n",
      "_ssl                ftplib              plistlib            tracemalloc\n",
      "_stat               functools           plotly              traitlets\n",
      "_statistics         functorch           pluggy              transformers\n",
      "_string             future              poplib              trio\n",
      "_strptime           gc                  posixpath           trio_websocket\n",
      "_struct             gender_guesser      poyo                tty\n",
      "_symtable           genericpath         pprint              turtle\n",
      "_system_path        gensim              pptx                turtledemo\n",
      "_testbuffer         geographiclib       profile             tweepy\n",
      "_testcapi           geopandas           prometheus_client   twisted\n",
      "_testconsole        geopy               prompt_toolkit      types\n",
      "_testimportmultiple getopt              protego             typing\n",
      "_testinternalcapi   getpass             pstats              typing_extensions\n",
      "_testmultiphase     gettext             psutil              ujson\n",
      "_thread             glob                pty                 unicodedata\n",
      "_threading_local    glob2               ptyprocess          unidecode\n",
      "_tkinter            graphlib            pvectorc            unittest\n",
      "_tracemalloc        greenlet            py                  urllib\n",
      "_uuid               gzip                py_compile          urllib3\n",
      "_warnings           h11                 pyasn1              uu\n",
      "_weakref            h5py                pyasn1_modules      uuid\n",
      "_weakrefset         hamcrest            pyclbr              venv\n",
      "_win32sysloader     hashlib             pycodestyle         w3lib\n",
      "_winapi             heapdict            pycosat             warnings\n",
      "_winxptheme         heapq               pycparser           watchdog\n",
      "_xxsubinterpreters  hmac                pyct                wave\n",
      "_yaml               holoviews           pycurl              wcwidth\n",
      "_zoneinfo           html                pydispatch          weakref\n",
      "abc                 http                pydoc               webbrowser\n",
      "adodbapi            huggingface_hub     pydoc_data          webencodings\n",
      "afxres              hvplot              pydocstyle          websocket\n",
      "aifc                hyperlink           pyexpat             werkzeug\n",
      "aiohttp             idlelib             pyflakes            wheel\n",
      "aiosignal           idna                pygments            widgetsnbextension\n",
      "alabaster           imagecodecs         pylab               win2kras\n",
      "anaconda_navigator  imageio             pylint              win32api\n",
      "anaconda_project    imagesize           pyls_spyder         win32clipboard\n",
      "antigravity         imaplib             pylsp               win32com\n",
      "anyio               imghdr              pylsp_black         win32con\n",
      "appdirs             imp                 pylsp_jsonrpc       win32console\n",
      "argon2              importlib           pyodbc              win32cred\n",
      "argparse            importlib_metadata  pyparsing           win32crypt\n",
      "array               incremental         pyproj              win32cryptcon\n",
      "arrow               inflection          pyrsistent          win32ctypes\n",
      "ast                 iniconfig           pytest              win32event\n",
      "astroid             inspect             pythoncom           win32evtlog\n",
      "astropy             intake              pytz                win32evtlogutil\n",
      "async_generator     intervaltree        pyviz_comms         win32file\n",
      "async_timeout       io                  pywin               win32gui\n",
      "asynchat            ipaddress           pywin32_bootstrap   win32gui_struct\n",
      "asyncio             ipykernel           pywin32_testutil    win32help\n",
      "asyncore            ipykernel_launcher  pywintypes          win32inet\n",
      "atexit              ipython_genutils    pywt                win32inetcon\n",
      "atomicwrites        ipywidgets          pyximport           win32job\n",
      "attr                isapi               qdarkstyle          win32lz\n",
      "attrs               isort               qstylizer           win32net\n",
      "audioop             isympy              qtawesome           win32netcon\n",
      "automat             itemadapter         qtconsole           win32pdh\n",
      "autopep8            itemloaders         qtpy                win32pdhquery\n",
      "autoreload          itertools           queue               win32pdhutil\n",
      "babel               itsdangerous        queuelib            win32pipe\n",
      "backcall            jdcal               quopri              win32print\n",
      "backports           jedi                random              win32process\n",
      "base64              jellyfish           rasutil             win32profile\n",
      "bcrypt              jinja2              re                  win32ras\n",
      "bdb                 jinja2_time         regcheck            win32rcparser\n",
      "binaryornot         jmespath            regex               win32security\n",
      "binascii            joblib              regutil             win32service\n",
      "binhex              json                repo_cli            win32serviceutil\n",
      "binstar_client      json5               report_generator    win32timezone\n",
      "bisect              jsonpickle          reprlib             win32trace\n",
      "bitarray            jsonschema          requests            win32traceutil\n",
      "bkcharts            jupyter             requests_file       win32transaction\n",
      "black               jupyter_client      requests_oauthlib   win32ts\n",
      "blackd              jupyter_console     rlcompleter         win32ui\n",
      "bleach              jupyter_core        rmagic              win32uiole\n",
      "blib2to3            jupyter_server      rope                win32verstamp\n",
      "bokeh               jupyterlab          rtree               win32wnet\n",
      "boto3               jupyterlab_plotly   ruamel_yaml         win_inet_pton\n",
      "botocore            jupyterlab_pygments run                 win_unicode_console\n",
      "bottleneck          jupyterlab_server   runpy               wincertstore\n",
      "brotli              jupyterlab_widgets  s3transfer          winerror\n",
      "bs4                 jwt                 sched               winioctlcon\n",
      "builtins            keyring             scipy               winnt\n",
      "bz2                 keyword             scrapy              winperf\n",
      "cProfile            kiwisolver          seaborn             winpty\n",
      "calendar            lazy_object_proxy   secrets             winreg\n",
      "certifi             lib2to3             select              winsound\n",
      "certifi_win32       libarchive          selectors           winxpgui\n",
      "cffi                libfuturize         selenium            winxptheme\n",
      "cgi                 libpasteurize       send2trash          wordcloud\n",
      "cgitb               lief                sentencepiece       wrapt\n",
      "chardet             linecache           service_identity    wsgiref\n",
      "charset_normalizer  llvmlite            servicemanager      wsproto\n",
      "chunk               locale              setuptools          xarray\n",
      "click               locket              setuptools_scm      xdrlib\n",
      "click_plugins       logging             shapely             xlrd\n",
      "cligj               lxml                shelve              xlsxwriter\n",
      "cloudpickle         lz4                 shlex               xlwings\n",
      "clyent              lzma                shutil              xml\n",
      "cmake               mailbox             signal              xmlrpc\n",
      "cmath               mailcap             sip                 xxsubtype\n",
      "cmd                 markdown            sipconfig           yaml\n",
      "code                markupsafe          sipdistutils        yapf\n",
      "codecs              marshal             site                yapftests\n",
      "codeop              math                six                 yarl\n",
      "collections         matplotlib          skimage             zict\n",
      "colorama            matplotlib_inline   sklearn             zipapp\n",
      "colorcet            mccabe              sklearnex           zipfile\n",
      "colorsys            menuinst            slugify             zipimport\n",
      "commctrl            mimetypes           smart_open          zipp\n",
      "compileall          mistune             smtpd               zlib\n",
      "comtypes            mkl                 smtplib             zmq\n",
      "concurrent          mkl_fft             snappy              zoneinfo\n",
      "conda               mkl_random          sndhdr              zope\n",
      "\n",
      "Enter any module name to get more help.  Or, type \"modules spam\" to search\n",
      "for modules whose name or summary contain the string \"spam\".\n",
      "\n"
     ]
    },
    {
     "name": "stderr",
     "output_type": "stream",
     "text": [
      "C:\\Users\\ER258MG\\Anaconda3\\lib\\site-packages\\Pythonwin\\pywin\\scintilla\\view.py:818: ResourceWarning:\n",
      "\n",
      "unclosed file <_io.TextIOWrapper name='C:\\\\Users\\\\ER258MG\\\\Anaconda3\\\\lib\\\\site-packages\\\\Pythonwin\\\\pywin\\\\default.cfg' mode='r' encoding='cp1252'>\n",
      "\n"
     ]
    }
   ],
   "source": [
    "help(\"modules\")"
   ]
  },
  {
   "cell_type": "markdown",
   "id": "6cdd3bf6",
   "metadata": {},
   "source": [
    "Rock , Paper and Scissors"
   ]
  },
  {
   "cell_type": "code",
   "execution_count": 33,
   "id": "e82d9d14",
   "metadata": {},
   "outputs": [
    {
     "name": "stdout",
     "output_type": "stream",
     "text": [
      "Enter a choice (rock, paper, scissors): rock\n",
      "Player: rock\n",
      "Computer: paper\n",
      "You lose!\n",
      "Play again? (y/n): n\n",
      "Thanks for playing!\n"
     ]
    }
   ],
   "source": [
    "import random\n",
    "\n",
    "options = (\"rock\", \"paper\", \"scissors\")\n",
    "running = True\n",
    "\n",
    "while running:\n",
    "\n",
    "    player = None\n",
    "    computer = random.choice(options)\n",
    "\n",
    "    while player not in options:\n",
    "        player = input(\"Enter a choice (rock, paper, scissors): \")\n",
    "\n",
    "    print(f\"Player: {player}\")\n",
    "    print(f\"Computer: {computer}\")\n",
    "\n",
    "    if player == computer:\n",
    "        print(\"It's a tie!\")\n",
    "    elif player == \"rock\" and computer == \"scissors\":\n",
    "        print(\"You win!\")\n",
    "    elif player == \"paper\" and computer == \"rock\":\n",
    "        print(\"You win!\")\n",
    "    elif player == \"scissors\" and computer == \"paper\":\n",
    "        print(\"You win!\")\n",
    "    else:\n",
    "        print(\"You lose!\")\n",
    "\n",
    "    if not input(\"Play again? (y/n): \").lower() == \"y\":\n",
    "        running = False\n",
    "\n",
    "print(\"Thanks for playing!\")"
   ]
  },
  {
   "cell_type": "code",
   "execution_count": 34,
   "id": "14692932",
   "metadata": {},
   "outputs": [
    {
     "name": "stdout",
     "output_type": "stream",
     "text": [
      "----------------------\n",
      "How many elements are in the periodic table?: \n",
      "A. 116\n",
      "B. 117\n",
      "C. 118\n",
      "D. 119\n",
      "Enter (A, B, C, D): a\n",
      "INCORRECT!\n",
      "C is the correct answer\n",
      "----------------------\n",
      "Which animal lays the largest eggs?: \n",
      "A. Whale\n",
      "B. Crocodile\n",
      "C. Elephant\n",
      "D. Ostrich\n",
      "Enter (A, B, C, D): c\n",
      "INCORRECT!\n",
      "D is the correct answer\n",
      "----------------------\n",
      "What is the most abundant gas in Earth's atmosphere?: \n",
      "A. Nitrogen\n",
      "B. Oxygen\n",
      "C. Carbon-Dioxide\n",
      "D. Hydrogen\n",
      "Enter (A, B, C, D): d\n",
      "INCORRECT!\n",
      "A is the correct answer\n",
      "----------------------\n",
      "How many bones are in the human body?: \n",
      "A. 206\n",
      "B. 207\n",
      "C. 208\n",
      "D. 209\n",
      "Enter (A, B, C, D): b\n",
      "INCORRECT!\n",
      "A is the correct answer\n",
      "----------------------\n",
      "Which planet in the solar system is the hottest?: \n",
      "A. Mercury\n",
      "B. Venus\n",
      "C. Earth\n",
      "D. Mars\n",
      "Enter (A, B, C, D): d\n",
      "INCORRECT!\n",
      "B is the correct answer\n",
      "----------------------\n",
      "       RESULTS        \n",
      "----------------------\n",
      "answers: C D A A B \n",
      "guesses: A C D B D \n",
      "Your score is: 0%\n"
     ]
    }
   ],
   "source": [
    "questions = (\"How many elements are in the periodic table?: \",\n",
    "                       \"Which animal lays the largest eggs?: \",\n",
    "                       \"What is the most abundant gas in Earth's atmosphere?: \",\n",
    "                       \"How many bones are in the human body?: \",\n",
    "                       \"Which planet in the solar system is the hottest?: \")\n",
    "\n",
    "options = ((\"A. 116\", \"B. 117\", \"C. 118\", \"D. 119\"),\n",
    "                   (\"A. Whale\", \"B. Crocodile\", \"C. Elephant\", \"D. Ostrich\"),\n",
    "                   (\"A. Nitrogen\", \"B. Oxygen\", \"C. Carbon-Dioxide\", \"D. Hydrogen\"),\n",
    "                   (\"A. 206\", \"B. 207\", \"C. 208\", \"D. 209\"),\n",
    "                   (\"A. Mercury\", \"B. Venus\", \"C. Earth\", \"D. Mars\"))\n",
    "\n",
    "answers = (\"C\", \"D\", \"A\", \"A\", \"B\")\n",
    "guesses = []\n",
    "score = 0\n",
    "question_num = 0\n",
    "\n",
    "for question in questions:\n",
    "    print(\"----------------------\")\n",
    "    print(question)\n",
    "    for option in options[question_num]:\n",
    "        print(option)\n",
    "\n",
    "    guess = input(\"Enter (A, B, C, D): \").upper()\n",
    "    guesses.append(guess)\n",
    "    if guess == answers[question_num]:\n",
    "        score += 1\n",
    "        print(\"CORRECT!\")\n",
    "    else:\n",
    "        print(\"INCORRECT!\")\n",
    "        print(f\"{answers[question_num]} is the correct answer\")\n",
    "    question_num += 1\n",
    "\n",
    "print(\"----------------------\")\n",
    "print(\"       RESULTS        \")\n",
    "print(\"----------------------\")\n",
    "\n",
    "print(\"answers: \", end=\"\")\n",
    "for answer in answers:\n",
    "    print(answer, end=\" \")\n",
    "print()\n",
    "\n",
    "print(\"guesses: \", end=\"\")\n",
    "for guess in guesses:\n",
    "    print(guess, end=\" \")\n",
    "print()\n",
    "\n",
    "score = int(score / len(questions) * 100)\n",
    "print(f\"Your score is: {score}%\")"
   ]
  },
  {
   "cell_type": "markdown",
   "id": "aebdf591",
   "metadata": {},
   "source": [
    "INHERITANCE"
   ]
  },
  {
   "cell_type": "code",
   "execution_count": 40,
   "id": "4206f616",
   "metadata": {},
   "outputs": [
    {
     "name": "stdout",
     "output_type": "stream",
     "text": [
      "Sleeping\n"
     ]
    }
   ],
   "source": [
    "class Animal:\n",
    "    alive = True\n",
    "    \n",
    "    def eat(self):\n",
    "        print(\"Eating\")\n",
    "    def  sleep(self):\n",
    "        print(\"Sleeping\")\n",
    "        \n",
    "class rabbit(Animal):\n",
    "    pass\n",
    "class fish(Animal):\n",
    "    pass\n",
    "\n",
    "rabbit= rabbit()\n",
    "fish = fish()\n",
    "\n",
    "#print(rabbit.alive)\n",
    "rabbit.sleep()"
   ]
  },
  {
   "cell_type": "markdown",
   "id": "3a8d5c69",
   "metadata": {},
   "source": [
    "Multilevel Inheritance"
   ]
  },
  {
   "cell_type": "code",
   "execution_count": 42,
   "id": "af646d54",
   "metadata": {},
   "outputs": [
    {
     "name": "stdout",
     "output_type": "stream",
     "text": [
      "True\n",
      "Eating\n"
     ]
    }
   ],
   "source": [
    "class organism:\n",
    "    alive = True\n",
    "class Animal(organism):\n",
    "    def eat(self):\n",
    "        print(\"Eating\")\n",
    "class Dog(Animal):\n",
    "    def bark(self):\n",
    "        print(Barking)\n",
    "dog = Dog()\n",
    "print(dog.alive)\n",
    "dog.eat()\n"
   ]
  },
  {
   "cell_type": "markdown",
   "id": "1885d987",
   "metadata": {},
   "source": [
    "Multiple Inheritance"
   ]
  },
  {
   "cell_type": "code",
   "execution_count": 46,
   "id": "db885eb4",
   "metadata": {},
   "outputs": [
    {
     "name": "stdout",
     "output_type": "stream",
     "text": [
      "Swimming\n"
     ]
    }
   ],
   "source": [
    "class Animal:\n",
    "    alive = True\n",
    "    \n",
    "    def eat(self):\n",
    "        print(\"Eating\")\n",
    "    def  sleep(self):\n",
    "        print(\"Sleeping\")\n",
    "        \n",
    "class rabbit(Animal):\n",
    "    pass\n",
    "class fish(Animal):\n",
    "    def swim(self):\n",
    "        print(\"Swimming\")\n",
    "class cat(rabbit,fish):\n",
    "    pass\n",
    "\n",
    "rabbit= rabbit()\n",
    "fish = fish()\n",
    "cat = cat()\n",
    "#print(rabbit.alive)\n",
    "#rabbit.sleep()\n",
    "cat.swim()"
   ]
  },
  {
   "cell_type": "markdown",
   "id": "8fa48f25",
   "metadata": {},
   "source": [
    "Method Chaining - callng multiple methods sequentially each calls performs an action on same object and return self."
   ]
  },
  {
   "cell_type": "code",
   "execution_count": 51,
   "id": "9db8c530",
   "metadata": {},
   "outputs": [
    {
     "name": "stdout",
     "output_type": "stream",
     "text": [
      "Started\n",
      "Stopped\n"
     ]
    },
    {
     "data": {
      "text/plain": [
       "<__main__.car at 0x181f4ef5c40>"
      ]
     },
     "execution_count": 51,
     "metadata": {},
     "output_type": "execute_result"
    }
   ],
   "source": [
    "class car:\n",
    "    def start(self):\n",
    "        print(\"Started\")\n",
    "        return self\n",
    "    def stop(self):\n",
    "        print(\"Stopped\")\n",
    "        return self\n",
    "lambo = car()\n",
    "\n",
    "lambo.start().stop()\\ # newline continuation or lambo.start().stop()\n",
    "     .stop()"
   ]
  },
  {
   "cell_type": "markdown",
   "id": "ca77f790",
   "metadata": {},
   "source": [
    "super() function"
   ]
  },
  {
   "cell_type": "code",
   "execution_count": null,
   "id": "f1cc285d",
   "metadata": {},
   "outputs": [],
   "source": [
    "class Rectangle(self,length,breadth):\n",
    "    def__init__(self,length,breadth):\n",
    "        self.length=length\n",
    "        self.width=width\n",
    "class square(Rectangle):\n",
    "    def__init__(self,length,breadth,width):\n",
    "        super().__init__(length,breadth)\n",
    "        self.width=width"
   ]
  },
  {
   "cell_type": "markdown",
   "id": "1fc4e37c",
   "metadata": {},
   "source": [
    "Abstract classes"
   ]
  },
  {
   "cell_type": "markdown",
   "id": "fbc59aae",
   "metadata": {},
   "source": [
    "Prevents a user from creating a object of the class,For using this we use a module abc-abstract base class\n",
    "\n",
    "from abc import ABC,Abstract method\n",
    "\n",
    "abstract class atleast need one abstract method,abstract method is has declaration of method without implementation\n",
    "\n",
    "Note: Child class needs to override the abstract method otherwise cant be inistianised"
   ]
  },
  {
   "cell_type": "code",
   "execution_count": 3,
   "id": "6070c992",
   "metadata": {},
   "outputs": [
    {
     "name": "stdout",
     "output_type": "stream",
     "text": [
      "Car is running\n",
      "Flight is flying\n"
     ]
    }
   ],
   "source": [
    "from abc import ABC,abstractmethod\n",
    "\n",
    "class Vehicle(ABC):\n",
    "    @abstractmethod\n",
    "    def go(self):\n",
    "        pass\n",
    "\n",
    "class Car(Vehicle):\n",
    "    def go(self):\n",
    "        print(\"Car is running\")\n",
    "        \n",
    "class Flight(Vehicle):\n",
    "    def go(self):\n",
    "        print(\"Flight is flying\")\n",
    "        \n",
    "#vehicle = Vehicle()\n",
    "car = Car()\n",
    "flight = Flight()\n",
    "\n",
    "\n",
    "#vechile.go()\n",
    "car.go()\n",
    "flight.go()"
   ]
  },
  {
   "cell_type": "markdown",
   "id": "b7ebf4d5",
   "metadata": {},
   "source": [
    "object as paramter\n"
   ]
  },
  {
   "cell_type": "code",
   "execution_count": 6,
   "id": "8e8886d5",
   "metadata": {},
   "outputs": [
    {
     "name": "stdout",
     "output_type": "stream",
     "text": [
      "Black\n"
     ]
    }
   ],
   "source": [
    "class Car():\n",
    "    color = None\n",
    "\n",
    "def change_color(car,color):\n",
    "    car.color=color\n",
    "    \n",
    "car1=Car()\n",
    "change_color(car1,\"Black\")\n",
    "print(car1.color)"
   ]
  },
  {
   "cell_type": "markdown",
   "id": "05ed4302",
   "metadata": {},
   "source": [
    "Walrus Operator"
   ]
  },
  {
   "cell_type": "markdown",
   "id": "a7710342",
   "metadata": {},
   "source": [
    ":= - assignment expression aka walrus operator,introduced in python 3.8 , assign values to a  variables part of large expressions"
   ]
  },
  {
   "cell_type": "code",
   "execution_count": 2,
   "id": "5a5a79e5",
   "metadata": {},
   "outputs": [
    {
     "name": "stdout",
     "output_type": "stream",
     "text": [
      "True\n"
     ]
    }
   ],
   "source": [
    "print(happy:=True)"
   ]
  },
  {
   "cell_type": "code",
   "execution_count": 5,
   "id": "345171f7",
   "metadata": {},
   "outputs": [
    {
     "name": "stdout",
     "output_type": "stream",
     "text": [
      "What food do yo want ? h\n",
      "What food do yo want ? j;\n",
      "What food do yo want ? quit\n"
     ]
    }
   ],
   "source": [
    "foods = list()\n",
    "while food := input(\"What food do yo want ? \") != \"quit\":\n",
    "        foods.append(food)"
   ]
  },
  {
   "cell_type": "code",
   "execution_count": 6,
   "id": "de3c354b",
   "metadata": {},
   "outputs": [
    {
     "data": {
      "text/plain": [
       "[True, True]"
      ]
     },
     "execution_count": 6,
     "metadata": {},
     "output_type": "execute_result"
    }
   ],
   "source": [
    "foods"
   ]
  },
  {
   "cell_type": "markdown",
   "id": "b4b210b6",
   "metadata": {},
   "source": [
    "Functions to variables"
   ]
  },
  {
   "cell_type": "code",
   "execution_count": 7,
   "id": "f3c37c72",
   "metadata": {},
   "outputs": [
    {
     "name": "stdout",
     "output_type": "stream",
     "text": [
      "hello\n",
      "hello\n"
     ]
    }
   ],
   "source": [
    "def hello():\n",
    "    print(\"hello\")\n",
    "    \n",
    "hi = hello #stores memory address of the function #also known as alias name for the function\n",
    "\n",
    "hello()\n",
    "hi()"
   ]
  },
  {
   "cell_type": "code",
   "execution_count": 8,
   "id": "ff0be137",
   "metadata": {},
   "outputs": [
    {
     "name": "stdout",
     "output_type": "stream",
     "text": [
      "welcome\n"
     ]
    }
   ],
   "source": [
    "say = print\n",
    "say(\"welcome\")"
   ]
  },
  {
   "cell_type": "markdown",
   "id": "242c43d2",
   "metadata": {},
   "source": [
    "High order function"
   ]
  },
  {
   "cell_type": "markdown",
   "id": "6e261b98",
   "metadata": {},
   "source": [
    "In python functions also treated as objects , whether accepts function as an parameter or returns function"
   ]
  },
  {
   "cell_type": "code",
   "execution_count": 11,
   "id": "9d698569",
   "metadata": {},
   "outputs": [
    {
     "name": "stdout",
     "output_type": "stream",
     "text": [
      "raghul\n"
     ]
    }
   ],
   "source": [
    "def loud(text):\n",
    "    return text.upper()\n",
    "\n",
    "def quiet(text):\n",
    "    return text.lower()\n",
    "\n",
    "def hello(func):\n",
    "    text = func(\"Raghul\")\n",
    "    print(text)\n",
    "hello(quiet)    \n",
    "\n",
    "\n"
   ]
  },
  {
   "cell_type": "markdown",
   "id": "b4c67de0",
   "metadata": {},
   "source": [
    "Lambda function"
   ]
  },
  {
   "cell_type": "code",
   "execution_count": null,
   "id": "ca370454",
   "metadata": {},
   "outputs": [],
   "source": [
    "lambda parameters : expression"
   ]
  },
  {
   "cell_type": "code",
   "execution_count": 16,
   "id": "eaf9ce9a",
   "metadata": {},
   "outputs": [
    {
     "name": "stdout",
     "output_type": "stream",
     "text": [
      "10\n",
      "40\n"
     ]
    }
   ],
   "source": [
    "double = lambda x:x*2\n",
    "multiply = lambda x,y:x*y\n",
    "print(double(5))\n",
    "print(multiply(5,8))"
   ]
  },
  {
   "cell_type": "code",
   "execution_count": 20,
   "id": "edf50c78",
   "metadata": {},
   "outputs": [
    {
     "name": "stdout",
     "output_type": "stream",
     "text": [
      "<function <lambda> at 0x000001A0CBEB9EE0>\n"
     ]
    }
   ],
   "source": [
    "#age=34\n",
    "res = lambda age:True if age>=18 else False\n",
    "print(res)"
   ]
  },
  {
   "cell_type": "markdown",
   "id": "52aafaec",
   "metadata": {},
   "source": [
    "Sort"
   ]
  },
  {
   "cell_type": "markdown",
   "id": "816557e8",
   "metadata": {},
   "source": [
    "sort() method - used with lists \n",
    "sorted() function - used with iteratables it takes arguments reverse,key etc (tuples)"
   ]
  },
  {
   "cell_type": "markdown",
   "id": "8564719c",
   "metadata": {},
   "source": [
    "-------------------------------------------------------------------------------"
   ]
  },
  {
   "cell_type": "markdown",
   "id": "d4629abc",
   "metadata": {},
   "source": [
    "Map() - applies to each item in a iteratable(list,tuple,etc..)"
   ]
  },
  {
   "cell_type": "markdown",
   "id": "5acc2931",
   "metadata": {},
   "source": [
    "map(function,iterable)"
   ]
  },
  {
   "cell_type": "code",
   "execution_count": 4,
   "id": "dbc8aa45",
   "metadata": {},
   "outputs": [
    {
     "name": "stdout",
     "output_type": "stream",
     "text": [
      "('shirt', 16.4)\n",
      "('pant', 20.5)\n",
      "('jacket', 41.0)\n"
     ]
    }
   ],
   "source": [
    "store = [(\"shirt\",20.00),\n",
    "        (\"pant\",25.00),\n",
    "        (\"jacket\",50.00)]\n",
    "\n",
    "#converting to euro\n",
    "\n",
    "to_store=lambda data:(data[0],data[1]*0.82)\n",
    "\n",
    "store_euros= map(to_store,store)\n",
    "\n",
    "for i in store_euros:\n",
    "    print(i)"
   ]
  },
  {
   "cell_type": "markdown",
   "id": "17e2d01b",
   "metadata": {},
   "source": [
    "Filter() - creates an collection of elements from an iterable for which a function returns true\n"
   ]
  },
  {
   "cell_type": "markdown",
   "id": "551d6daf",
   "metadata": {},
   "source": [
    "filter(function,iterable)"
   ]
  },
  {
   "cell_type": "code",
   "execution_count": 3,
   "id": "e2762eb1",
   "metadata": {},
   "outputs": [
    {
     "name": "stdout",
     "output_type": "stream",
     "text": [
      "('raghul', 21)\n",
      "('raja', 25)\n"
     ]
    }
   ],
   "source": [
    "frnds=[(\"raghul\",21),(\"karthi\",20),(\"ponn\",20),(\"raja\",25)]\n",
    "\n",
    "age = lambda data:data[1] >=21 \n",
    "\n",
    "boundaries = filter(age,frnds)\n",
    "for i in boundaries:\n",
    "    print(i)"
   ]
  },
  {
   "cell_type": "markdown",
   "id": "34cb67a0",
   "metadata": {},
   "source": [
    "Reduce()"
   ]
  },
  {
   "cell_type": "markdown",
   "id": "7e3515ad",
   "metadata": {},
   "source": [
    "reduce() - apply an function to a iterable and reduce it to a single cumulative value <br>\n",
    "           performs function on first two elements and repeat the same process until one"
   ]
  },
  {
   "cell_type": "markdown",
   "id": "3d58bd94",
   "metadata": {},
   "source": [
    "reduce(function,iterable)"
   ]
  },
  {
   "cell_type": "code",
   "execution_count": 5,
   "id": "2bf4aa78",
   "metadata": {},
   "outputs": [
    {
     "name": "stdout",
     "output_type": "stream",
     "text": [
      "HELLO\n"
     ]
    }
   ],
   "source": [
    "import functools\n",
    "\n",
    "letters=[\"H\",\"E\",\"L\",\"L\",\"O\"]\n",
    "word=functools.reduce(lambda x,y:x+y,letters)\n",
    "print(word)\n"
   ]
  },
  {
   "cell_type": "code",
   "execution_count": 8,
   "id": "ea5f3996",
   "metadata": {},
   "outputs": [
    {
     "name": "stdout",
     "output_type": "stream",
     "text": [
      "120\n"
     ]
    }
   ],
   "source": [
    "factorial=[5,4,3,2,1]\n",
    "res = functools.reduce(lambda x,y:x*y,factorial)\n",
    "print(res)"
   ]
  },
  {
   "cell_type": "markdown",
   "id": "7ce4875d",
   "metadata": {},
   "source": [
    "----------------------------------------------------------------------"
   ]
  },
  {
   "cell_type": "markdown",
   "id": "131ab374",
   "metadata": {},
   "source": [
    "List Comphrension - creating a newlist with less syntax can mimic certain lambda functions,easier to read"
   ]
  },
  {
   "cell_type": "code",
   "execution_count": null,
   "id": "8e80ee4c",
   "metadata": {},
   "outputs": [],
   "source": [
    "list = [expresion for item in iterable]"
   ]
  },
  {
   "cell_type": "code",
   "execution_count": 9,
   "id": "d83591f7",
   "metadata": {},
   "outputs": [
    {
     "name": "stdout",
     "output_type": "stream",
     "text": [
      "[1, 4, 9, 16, 25, 36, 49, 64, 81, 100]\n"
     ]
    }
   ],
   "source": [
    "squares= [i*i for i in range(1,11)]\n",
    "print(squares)"
   ]
  },
  {
   "cell_type": "code",
   "execution_count": 13,
   "id": "b29a9ee0",
   "metadata": {},
   "outputs": [
    {
     "name": "stdout",
     "output_type": "stream",
     "text": [
      "[100, 70, 50, 40, 30]\n"
     ]
    }
   ],
   "source": [
    "students = [100,70,50,40,30,20,0]\n",
    "\n",
    "temp = [i for i in students if i>=30] # [expresion for item in iterable (if)] or  [expresion (if/else) for item in iterable]\n",
    "print(temp)"
   ]
  },
  {
   "cell_type": "code",
   "execution_count": 19,
   "id": "3375cb36",
   "metadata": {},
   "outputs": [
    {
     "name": "stdout",
     "output_type": "stream",
     "text": [
      "['FAIL', 'FAIL', 50, 40, 30, 20, 0]\n"
     ]
    }
   ],
   "source": [
    "students = [100,70,50,40,30,20,0]\n",
    "\n",
    "temp = [i if i<=60 else \"FAIL\" for i in students ] # [expresion for item in iterable (if)] or  [expresion (if/else) for item in iterable]\n",
    "print(temp)"
   ]
  },
  {
   "cell_type": "markdown",
   "id": "ae74db8f",
   "metadata": {},
   "source": [
    "----------------------------------------------------------------------------------------------------------------"
   ]
  },
  {
   "cell_type": "markdown",
   "id": "efc5b656",
   "metadata": {},
   "source": [
    "Dictionary Comphrehension - dict = {keys : expression for (key,value)in iterable.items(} <br> Similar to list comphreshension<br> we can also pass a function in place of expression"
   ]
  },
  {
   "cell_type": "markdown",
   "id": "082ddbbf",
   "metadata": {},
   "source": [
    "The items() method returns a view object. The view object contains the key-value pairs of the dictionary, as tuples in a list"
   ]
  },
  {
   "cell_type": "markdown",
   "id": "131dac6c",
   "metadata": {},
   "source": [
    "zip(*iterables)<br>\n",
    "The zip() function returns a zip object, which is an iterator of tuples where the first item in each passed iterator is paired together, and then the second item in each passed iterator are paired together etc.\n",
    "<br>\n",
    "If the passed iterators have different lengths, the iterator with the least items decides the length of the new iterator."
   ]
  },
  {
   "cell_type": "code",
   "execution_count": 24,
   "id": "092dd933",
   "metadata": {},
   "outputs": [
    {
     "name": "stdout",
     "output_type": "stream",
     "text": [
      "raghul : 1234\n",
      "karthi : 5678\n",
      "ponn : 0018\n"
     ]
    }
   ],
   "source": [
    "usernames = ['raghul','karthi','ponn']\n",
    "passwords = ('1234','5678','0018')\n",
    "\n",
    "\n",
    "users = dict(zip(usernames,passwords)) # or we use list , we can pass as many iterables\n",
    "\n",
    "for key,value in users.items():\n",
    "    print(key+\" : \"+value)"
   ]
  },
  {
   "cell_type": "markdown",
   "id": "55451c9d",
   "metadata": {},
   "source": [
    "-----------------------------------------------------------------"
   ]
  },
  {
   "cell_type": "markdown",
   "id": "31bfde51",
   "metadata": {},
   "source": [
    "Time module"
   ]
  },
  {
   "cell_type": "code",
   "execution_count": null,
   "id": "2e9c6fde",
   "metadata": {},
   "outputs": [],
   "source": [
    "import time\n",
    "# ***************************************************************************\n",
    "print(time.ctime(0))    # convert a time expressed in seconds since epoch to a readable string\n",
    "#                                        epoch = when your computer thinks time began (reference point)\n",
    "print(time.time())      # return current seconds since epoch\n",
    "print(time.ctime(time.time())) # will get current time\n",
    "\n",
    "# ***************************************************************************\n",
    "# time.strftime(format, time_object) = formats a time_object to a string\n",
    "# time_object = time.localtime() # local time\n",
    "# time_object = time.gmtime()  # UTC time\n",
    "# local_time = time.strftime(\"%B %d %Y %H:%M:%S\", time_object)\n",
    "# print(local_time)\n",
    "\n",
    "# ***************************************************************************\n",
    "# time.strptime(string_string, format) = parses a string representing time/date and returns a struct_time object\n",
    "# time_string = \"20 April, 2020\"\n",
    "# time_object = time.strptime(time_string,\"%d %B, %Y\")\n",
    "# print(time_object)\n",
    "\n",
    "# ***************************************************************************\n",
    "# time.asctime(time_tuple) = accepts a time_object or a tuple up to 9 elements and returns a string\n",
    "# (year, month, day, hours, minutes, secs, #day of the week, #day of the year, dst)\n",
    "# time_tuple = (2020, 4, 20, 4, 20, 0, 0, 0, 0)\n",
    "# time_string = time.asctime(time_tuple)\n",
    "# print(time_string)\n",
    "\n",
    "# ***************************************************************************\n",
    "# time.asctime(time_tuple) = accepts a time_object or a tuple up to 9 elements and return seconds since epoch\n",
    "# (year, month, day, hours, minutes, secs, #day of the week, #day of the year, dst)\n",
    "# time_tuple = (2020, 4, 20, 4, 20, 0, 0, 0, 0)\n",
    "# time_string = time.mktime(time_tuple)\n",
    "# print(time_string)"
   ]
  },
  {
   "cell_type": "code",
   "execution_count": null,
   "id": "27b94cc3",
   "metadata": {},
   "outputs": [],
   "source": []
  }
 ],
 "metadata": {
  "kernelspec": {
   "display_name": "Python 3 (ipykernel)",
   "language": "python",
   "name": "python3"
  },
  "language_info": {
   "codemirror_mode": {
    "name": "ipython",
    "version": 3
   },
   "file_extension": ".py",
   "mimetype": "text/x-python",
   "name": "python",
   "nbconvert_exporter": "python",
   "pygments_lexer": "ipython3",
   "version": "3.10.13"
  }
 },
 "nbformat": 4,
 "nbformat_minor": 5
}

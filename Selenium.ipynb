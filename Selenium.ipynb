{
 "cells": [
  {
   "cell_type": "code",
   "execution_count": 57,
   "id": "ab611026",
   "metadata": {},
   "outputs": [],
   "source": [
    "from selenium import webdriver\n",
    "from selenium.webdriver.chrome.service import Service\n",
    "from selenium.webdriver.chrome.options import Options\n",
    "from selenium.webdriver.common.by import By\n",
    "import time"
   ]
  },
  {
   "cell_type": "code",
   "execution_count": 62,
   "id": "810005e2",
   "metadata": {},
   "outputs": [],
   "source": [
    "options = Options()\n",
    "options.add_experimental_option(\"detach\",True)\n",
    "driver = webdriver.Chrome(options=options)\n",
    "driver.get(\"https://www.neuralnine.com/\")\n",
    "driver.maximize_window()\n",
    "links = driver.find_elements(\"xpath\",\"//a[@href]\")\n",
    "for link in links:\n",
    "    if \"Books\" in link.get_attribute(\"innerHTML\"):\n",
    "        link.click()\n",
    "        break\n",
    "new_books = driver.find_element(By.CLASS_NAME,\"elementor-element-2125331\")\n",
    "new_books.click()\n",
    "time.sleep(3)\n",
    "#paper_back=driver.find_element(By.CLASS_NAME,\"unselected\").click()"
   ]
  },
  {
   "cell_type": "code",
   "execution_count": 54,
   "id": "700dc34a",
   "metadata": {},
   "outputs": [],
   "source": []
  },
  {
   "cell_type": "code",
   "execution_count": 8,
   "id": "856eb596",
   "metadata": {},
   "outputs": [],
   "source": []
  },
  {
   "cell_type": "code",
   "execution_count": 23,
   "id": "9fd30343",
   "metadata": {},
   "outputs": [],
   "source": []
  },
  {
   "cell_type": "code",
   "execution_count": 31,
   "id": "c868bd4a",
   "metadata": {},
   "outputs": [],
   "source": [
    "#book_links=driver.find_elements(\"xpath\",\"//div[contains(@class,'elementor-widget-wrap')]//h2[text()[contains(.,'7 IN 1')]]\")"
   ]
  },
  {
   "cell_type": "code",
   "execution_count": 36,
   "id": "95d169b3",
   "metadata": {},
   "outputs": [],
   "source": []
  },
  {
   "cell_type": "code",
   "execution_count": 37,
   "id": "ddc93784",
   "metadata": {},
   "outputs": [],
   "source": []
  },
  {
   "cell_type": "code",
   "execution_count": 38,
   "id": "4647f1f8",
   "metadata": {},
   "outputs": [
    {
     "data": {
      "text/plain": [
       "<selenium.webdriver.remote.webelement.WebElement (session=\"11d10267dac82e6fb6f7df9cfab8c267\", element=\"0E5AABB0C639D3EA74C2804E995DBD30_element_76\")>"
      ]
     },
     "execution_count": 38,
     "metadata": {},
     "output_type": "execute_result"
    }
   ],
   "source": []
  },
  {
   "cell_type": "code",
   "execution_count": null,
   "id": "3b1d2618",
   "metadata": {},
   "outputs": [],
   "source": []
  }
 ],
 "metadata": {
  "kernelspec": {
   "display_name": "Python 3 (ipykernel)",
   "language": "python",
   "name": "python3"
  },
  "language_info": {
   "codemirror_mode": {
    "name": "ipython",
    "version": 3
   },
   "file_extension": ".py",
   "mimetype": "text/x-python",
   "name": "python",
   "nbconvert_exporter": "python",
   "pygments_lexer": "ipython3",
   "version": "3.9.13"
  }
 },
 "nbformat": 4,
 "nbformat_minor": 5
}
